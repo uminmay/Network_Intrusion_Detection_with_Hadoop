{
 "cells": [
  {
   "cell_type": "code",
   "execution_count": 1,
   "id": "be744e08",
   "metadata": {},
   "outputs": [],
   "source": [
    "from pyspark import SparkContext, SparkConf\n",
    "from pyspark.sql import HiveContext"
   ]
  },
  {
   "cell_type": "code",
   "execution_count": 2,
   "id": "988f3ee7",
   "metadata": {},
   "outputs": [],
   "source": [
    "SparkContext.setSystemProperty('spark.executor.memory','4g')\n",
    "conf = SparkConf()\n",
    "conf.set('spark.executor.instances',20)\n",
    "sc = SparkContext('yarn', 'kdd99', conf=conf)\n",
    "hc=HiveContext(sc)"
   ]
  },
  {
   "cell_type": "code",
   "execution_count": 3,
   "id": "8c88bc17",
   "metadata": {},
   "outputs": [
    {
     "data": {
      "text/html": [
       "<table border='1'>\n",
       "<tr><th></th></tr>\n",
       "</table>\n"
      ],
      "text/plain": [
       "++\n",
       "||\n",
       "++\n",
       "++"
      ]
     },
     "execution_count": 3,
     "metadata": {},
     "output_type": "execute_result"
    }
   ],
   "source": [
    "hc.sql(\"USE itv000684_kdd99data\")"
   ]
  },
  {
   "cell_type": "code",
   "execution_count": 4,
   "id": "9c53b315",
   "metadata": {},
   "outputs": [],
   "source": [
    "kdd = hc.table(\"kdd99\")"
   ]
  },
  {
   "cell_type": "code",
   "execution_count": 5,
   "id": "5937a2ae",
   "metadata": {},
   "outputs": [],
   "source": [
    "(train_data, test_data) = kdd.randomSplit([0.7,0.3], seed=42)"
   ]
  },
  {
   "cell_type": "code",
   "execution_count": 6,
   "id": "6b81e304",
   "metadata": {},
   "outputs": [
    {
     "data": {
      "text/html": [
       "<table border='1'>\n",
       "<tr><th>protocol_type</th><th>service</th><th>flag</th><th>is_anomaly</th><th>duration</th><th>src_bytes</th><th>dst_bytes</th><th>wrong_fragment</th><th>urgent</th><th>hot</th><th>num_failed_logins</th><th>num_compromised</th><th>root_shell</th><th>su_attempted</th><th>num_root</th><th>num_file_creations</th><th>num_shells</th><th>num_access_files</th><th>num_outbound_cmds</th><th>count</th><th>srv_count</th><th>serror_rate</th><th>srv_serror_rate</th><th>rerror_rate</th><th>srv_rerror_rate</th><th>same_srv_rate</th><th>diff_srv_rate</th><th>srv_diff_host_rate</th><th>dst_host_count</th><th>dst_host_srv_count</th><th>dst_host_same_srv_rate</th><th>dst_host_diff_srv_rate</th><th>dst_host_same_src_port_rate</th><th>dst_host_srv_diff_host_rate</th><th>dst_host_serror_rate</th><th>dst_host_srv_serror_rate</th><th>dst_host_rerror_rate</th><th>dst_host_srv_rerror_rate</th></tr>\n",
       "<tr><td>icmp</td><td>eco_i</td><td>SF</td><td>ipsweep.</td><td>0</td><td>8</td><td>0</td><td>0</td><td>0</td><td>0</td><td>0</td><td>0</td><td>0</td><td>0</td><td>0</td><td>0</td><td>0</td><td>0</td><td>0</td><td>1</td><td>1</td><td>0.0</td><td>0.0</td><td>0.0</td><td>0.0</td><td>1.0</td><td>0.0</td><td>0.0</td><td>1.0</td><td>3.0</td><td>1.0</td><td>0.0</td><td>1.0</td><td>0.67</td><td>0.0</td><td>0.0</td><td>0.0</td><td>0.0</td></tr>\n",
       "<tr><td>icmp</td><td>eco_i</td><td>SF</td><td>ipsweep.</td><td>0</td><td>8</td><td>0</td><td>0</td><td>0</td><td>0</td><td>0</td><td>0</td><td>0</td><td>0</td><td>0</td><td>0</td><td>0</td><td>0</td><td>0</td><td>1</td><td>1</td><td>0.0</td><td>0.0</td><td>0.0</td><td>0.0</td><td>1.0</td><td>0.0</td><td>0.0</td><td>1.0</td><td>15.0</td><td>1.0</td><td>0.0</td><td>1.0</td><td>0.53</td><td>0.0</td><td>0.0</td><td>0.0</td><td>0.0</td></tr>\n",
       "<tr><td>icmp</td><td>eco_i</td><td>SF</td><td>ipsweep.</td><td>0</td><td>8</td><td>0</td><td>0</td><td>0</td><td>0</td><td>0</td><td>0</td><td>0</td><td>0</td><td>0</td><td>0</td><td>0</td><td>0</td><td>0</td><td>1</td><td>1</td><td>0.0</td><td>0.0</td><td>0.0</td><td>0.0</td><td>1.0</td><td>0.0</td><td>0.0</td><td>1.0</td><td>29.0</td><td>1.0</td><td>0.0</td><td>1.0</td><td>0.52</td><td>0.0</td><td>0.0</td><td>0.0</td><td>0.0</td></tr>\n",
       "<tr><td>icmp</td><td>eco_i</td><td>SF</td><td>ipsweep.</td><td>0</td><td>8</td><td>0</td><td>0</td><td>0</td><td>0</td><td>0</td><td>0</td><td>0</td><td>0</td><td>0</td><td>0</td><td>0</td><td>0</td><td>0</td><td>1</td><td>1</td><td>0.0</td><td>0.0</td><td>0.0</td><td>0.0</td><td>1.0</td><td>0.0</td><td>0.0</td><td>1.0</td><td>43.0</td><td>1.0</td><td>0.0</td><td>1.0</td><td>0.51</td><td>0.0</td><td>0.0</td><td>0.0</td><td>0.0</td></tr>\n",
       "<tr><td>icmp</td><td>eco_i</td><td>SF</td><td>ipsweep.</td><td>0</td><td>8</td><td>0</td><td>0</td><td>0</td><td>0</td><td>0</td><td>0</td><td>0</td><td>0</td><td>0</td><td>0</td><td>0</td><td>0</td><td>0</td><td>1</td><td>1</td><td>0.0</td><td>0.0</td><td>0.0</td><td>0.0</td><td>1.0</td><td>0.0</td><td>0.0</td><td>1.0</td><td>53.0</td><td>1.0</td><td>0.0</td><td>1.0</td><td>0.51</td><td>0.0</td><td>0.0</td><td>0.0</td><td>0.0</td></tr>\n",
       "<tr><td>icmp</td><td>eco_i</td><td>SF</td><td>ipsweep.</td><td>0</td><td>8</td><td>0</td><td>0</td><td>0</td><td>0</td><td>0</td><td>0</td><td>0</td><td>0</td><td>0</td><td>0</td><td>0</td><td>0</td><td>0</td><td>1</td><td>1</td><td>0.0</td><td>0.0</td><td>0.0</td><td>0.0</td><td>1.0</td><td>0.0</td><td>0.0</td><td>1.0</td><td>97.0</td><td>1.0</td><td>0.0</td><td>1.0</td><td>0.51</td><td>0.0</td><td>0.0</td><td>0.0</td><td>0.0</td></tr>\n",
       "<tr><td>icmp</td><td>eco_i</td><td>SF</td><td>ipsweep.</td><td>0</td><td>8</td><td>0</td><td>0</td><td>0</td><td>0</td><td>0</td><td>0</td><td>0</td><td>0</td><td>0</td><td>0</td><td>0</td><td>0</td><td>0</td><td>1</td><td>1</td><td>0.0</td><td>0.0</td><td>0.0</td><td>0.0</td><td>1.0</td><td>0.0</td><td>0.0</td><td>1.0</td><td>127.0</td><td>1.0</td><td>0.0</td><td>1.0</td><td>0.5</td><td>0.0</td><td>0.0</td><td>0.0</td><td>0.0</td></tr>\n",
       "<tr><td>icmp</td><td>eco_i</td><td>SF</td><td>ipsweep.</td><td>0</td><td>8</td><td>0</td><td>0</td><td>0</td><td>0</td><td>0</td><td>0</td><td>0</td><td>0</td><td>0</td><td>0</td><td>0</td><td>0</td><td>0</td><td>1</td><td>1</td><td>0.0</td><td>0.0</td><td>0.0</td><td>0.0</td><td>1.0</td><td>0.0</td><td>0.0</td><td>1.0</td><td>131.0</td><td>1.0</td><td>0.0</td><td>1.0</td><td>0.5</td><td>0.0</td><td>0.0</td><td>0.0</td><td>0.0</td></tr>\n",
       "<tr><td>icmp</td><td>eco_i</td><td>SF</td><td>ipsweep.</td><td>0</td><td>8</td><td>0</td><td>0</td><td>0</td><td>0</td><td>0</td><td>0</td><td>0</td><td>0</td><td>0</td><td>0</td><td>0</td><td>0</td><td>0</td><td>1</td><td>1</td><td>0.0</td><td>0.0</td><td>0.0</td><td>0.0</td><td>1.0</td><td>0.0</td><td>0.0</td><td>1.0</td><td>233.0</td><td>1.0</td><td>0.0</td><td>1.0</td><td>0.5</td><td>0.0</td><td>0.0</td><td>0.0</td><td>0.0</td></tr>\n",
       "<tr><td>icmp</td><td>eco_i</td><td>SF</td><td>ipsweep.</td><td>0</td><td>8</td><td>0</td><td>0</td><td>0</td><td>0</td><td>0</td><td>0</td><td>0</td><td>0</td><td>0</td><td>0</td><td>0</td><td>0</td><td>0</td><td>1</td><td>1</td><td>0.0</td><td>0.0</td><td>0.0</td><td>0.0</td><td>1.0</td><td>0.0</td><td>0.0</td><td>1.0</td><td>255.0</td><td>1.0</td><td>0.0</td><td>1.0</td><td>0.5</td><td>0.0</td><td>0.0</td><td>0.0</td><td>0.0</td></tr>\n",
       "<tr><td>icmp</td><td>eco_i</td><td>SF</td><td>ipsweep.</td><td>0</td><td>8</td><td>0</td><td>0</td><td>0</td><td>0</td><td>0</td><td>0</td><td>0</td><td>0</td><td>0</td><td>0</td><td>0</td><td>0</td><td>0</td><td>1</td><td>1</td><td>0.0</td><td>0.0</td><td>0.0</td><td>0.0</td><td>1.0</td><td>0.0</td><td>0.0</td><td>1.0</td><td>255.0</td><td>1.0</td><td>0.0</td><td>1.0</td><td>0.5</td><td>0.0</td><td>0.0</td><td>0.0</td><td>0.0</td></tr>\n",
       "<tr><td>icmp</td><td>eco_i</td><td>SF</td><td>ipsweep.</td><td>0</td><td>8</td><td>0</td><td>0</td><td>0</td><td>0</td><td>0</td><td>0</td><td>0</td><td>0</td><td>0</td><td>0</td><td>0</td><td>0</td><td>0</td><td>1</td><td>1</td><td>0.0</td><td>0.0</td><td>0.0</td><td>0.0</td><td>1.0</td><td>0.0</td><td>0.0</td><td>1.0</td><td>255.0</td><td>1.0</td><td>0.0</td><td>1.0</td><td>0.5</td><td>0.0</td><td>0.0</td><td>0.0</td><td>0.0</td></tr>\n",
       "<tr><td>icmp</td><td>eco_i</td><td>SF</td><td>ipsweep.</td><td>0</td><td>8</td><td>0</td><td>0</td><td>0</td><td>0</td><td>0</td><td>0</td><td>0</td><td>0</td><td>0</td><td>0</td><td>0</td><td>0</td><td>0</td><td>1</td><td>1</td><td>0.0</td><td>0.0</td><td>0.0</td><td>0.0</td><td>1.0</td><td>0.0</td><td>0.0</td><td>1.0</td><td>255.0</td><td>1.0</td><td>0.0</td><td>1.0</td><td>0.5</td><td>0.0</td><td>0.0</td><td>0.0</td><td>0.0</td></tr>\n",
       "<tr><td>icmp</td><td>eco_i</td><td>SF</td><td>ipsweep.</td><td>0</td><td>8</td><td>0</td><td>0</td><td>0</td><td>0</td><td>0</td><td>0</td><td>0</td><td>0</td><td>0</td><td>0</td><td>0</td><td>0</td><td>0</td><td>1</td><td>1</td><td>0.0</td><td>0.0</td><td>0.0</td><td>0.0</td><td>1.0</td><td>0.0</td><td>0.0</td><td>1.0</td><td>255.0</td><td>1.0</td><td>0.0</td><td>1.0</td><td>0.5</td><td>0.0</td><td>0.0</td><td>0.0</td><td>0.0</td></tr>\n",
       "<tr><td>icmp</td><td>eco_i</td><td>SF</td><td>ipsweep.</td><td>0</td><td>8</td><td>0</td><td>0</td><td>0</td><td>0</td><td>0</td><td>0</td><td>0</td><td>0</td><td>0</td><td>0</td><td>0</td><td>0</td><td>0</td><td>1</td><td>1</td><td>0.0</td><td>0.0</td><td>0.0</td><td>0.0</td><td>1.0</td><td>0.0</td><td>0.0</td><td>1.0</td><td>255.0</td><td>1.0</td><td>0.0</td><td>1.0</td><td>0.5</td><td>0.0</td><td>0.0</td><td>0.0</td><td>0.0</td></tr>\n",
       "<tr><td>icmp</td><td>eco_i</td><td>SF</td><td>ipsweep.</td><td>0</td><td>8</td><td>0</td><td>0</td><td>0</td><td>0</td><td>0</td><td>0</td><td>0</td><td>0</td><td>0</td><td>0</td><td>0</td><td>0</td><td>0</td><td>1</td><td>1</td><td>0.0</td><td>0.0</td><td>0.0</td><td>0.0</td><td>1.0</td><td>0.0</td><td>0.0</td><td>1.0</td><td>255.0</td><td>1.0</td><td>0.0</td><td>1.0</td><td>0.5</td><td>0.0</td><td>0.0</td><td>0.0</td><td>0.0</td></tr>\n",
       "<tr><td>icmp</td><td>eco_i</td><td>SF</td><td>ipsweep.</td><td>0</td><td>8</td><td>0</td><td>0</td><td>0</td><td>0</td><td>0</td><td>0</td><td>0</td><td>0</td><td>0</td><td>0</td><td>0</td><td>0</td><td>0</td><td>1</td><td>1</td><td>0.0</td><td>0.0</td><td>0.0</td><td>0.0</td><td>1.0</td><td>0.0</td><td>0.0</td><td>1.0</td><td>255.0</td><td>1.0</td><td>0.0</td><td>1.0</td><td>0.5</td><td>0.0</td><td>0.0</td><td>0.0</td><td>0.0</td></tr>\n",
       "<tr><td>icmp</td><td>eco_i</td><td>SF</td><td>ipsweep.</td><td>0</td><td>8</td><td>0</td><td>0</td><td>0</td><td>0</td><td>0</td><td>0</td><td>0</td><td>0</td><td>0</td><td>0</td><td>0</td><td>0</td><td>0</td><td>1</td><td>1</td><td>0.0</td><td>0.0</td><td>0.0</td><td>0.0</td><td>1.0</td><td>0.0</td><td>0.0</td><td>1.0</td><td>255.0</td><td>1.0</td><td>0.0</td><td>1.0</td><td>0.5</td><td>0.0</td><td>0.0</td><td>0.0</td><td>0.0</td></tr>\n",
       "<tr><td>icmp</td><td>eco_i</td><td>SF</td><td>ipsweep.</td><td>0</td><td>8</td><td>0</td><td>0</td><td>0</td><td>0</td><td>0</td><td>0</td><td>0</td><td>0</td><td>0</td><td>0</td><td>0</td><td>0</td><td>0</td><td>1</td><td>1</td><td>0.0</td><td>0.0</td><td>0.0</td><td>0.0</td><td>1.0</td><td>0.0</td><td>0.0</td><td>1.0</td><td>255.0</td><td>1.0</td><td>0.0</td><td>1.0</td><td>0.5</td><td>0.0</td><td>0.0</td><td>0.0</td><td>0.0</td></tr>\n",
       "<tr><td>icmp</td><td>eco_i</td><td>SF</td><td>ipsweep.</td><td>0</td><td>8</td><td>0</td><td>0</td><td>0</td><td>0</td><td>0</td><td>0</td><td>0</td><td>0</td><td>0</td><td>0</td><td>0</td><td>0</td><td>0</td><td>1</td><td>1</td><td>0.0</td><td>0.0</td><td>0.0</td><td>0.0</td><td>1.0</td><td>0.0</td><td>0.0</td><td>1.0</td><td>255.0</td><td>1.0</td><td>0.0</td><td>1.0</td><td>0.5</td><td>0.0</td><td>0.0</td><td>0.0</td><td>0.0</td></tr>\n",
       "</table>\n",
       "only showing top 20 rows\n"
      ],
      "text/plain": [
       "+-------------+-------+----+----------+--------+---------+---------+--------------+------+---+-----------------+---------------+----------+------------+--------+------------------+----------+----------------+-----------------+-----+---------+-----------+---------------+-----------+---------------+-------------+-------------+------------------+--------------+------------------+----------------------+----------------------+---------------------------+---------------------------+--------------------+------------------------+--------------------+------------------------+\n",
       "|protocol_type|service|flag|is_anomaly|duration|src_bytes|dst_bytes|wrong_fragment|urgent|hot|num_failed_logins|num_compromised|root_shell|su_attempted|num_root|num_file_creations|num_shells|num_access_files|num_outbound_cmds|count|srv_count|serror_rate|srv_serror_rate|rerror_rate|srv_rerror_rate|same_srv_rate|diff_srv_rate|srv_diff_host_rate|dst_host_count|dst_host_srv_count|dst_host_same_srv_rate|dst_host_diff_srv_rate|dst_host_same_src_port_rate|dst_host_srv_diff_host_rate|dst_host_serror_rate|dst_host_srv_serror_rate|dst_host_rerror_rate|dst_host_srv_rerror_rate|\n",
       "+-------------+-------+----+----------+--------+---------+---------+--------------+------+---+-----------------+---------------+----------+------------+--------+------------------+----------+----------------+-----------------+-----+---------+-----------+---------------+-----------+---------------+-------------+-------------+------------------+--------------+------------------+----------------------+----------------------+---------------------------+---------------------------+--------------------+------------------------+--------------------+------------------------+\n",
       "|         icmp|  eco_i|  SF|  ipsweep.|       0|        8|        0|             0|     0|  0|                0|              0|         0|           0|       0|                 0|         0|               0|                0|    1|        1|        0.0|            0.0|        0.0|            0.0|          1.0|          0.0|               0.0|           1.0|               3.0|                   1.0|                   0.0|                        1.0|                       0.67|                 0.0|                     0.0|                 0.0|                     0.0|\n",
       "|         icmp|  eco_i|  SF|  ipsweep.|       0|        8|        0|             0|     0|  0|                0|              0|         0|           0|       0|                 0|         0|               0|                0|    1|        1|        0.0|            0.0|        0.0|            0.0|          1.0|          0.0|               0.0|           1.0|              15.0|                   1.0|                   0.0|                        1.0|                       0.53|                 0.0|                     0.0|                 0.0|                     0.0|\n",
       "|         icmp|  eco_i|  SF|  ipsweep.|       0|        8|        0|             0|     0|  0|                0|              0|         0|           0|       0|                 0|         0|               0|                0|    1|        1|        0.0|            0.0|        0.0|            0.0|          1.0|          0.0|               0.0|           1.0|              29.0|                   1.0|                   0.0|                        1.0|                       0.52|                 0.0|                     0.0|                 0.0|                     0.0|\n",
       "|         icmp|  eco_i|  SF|  ipsweep.|       0|        8|        0|             0|     0|  0|                0|              0|         0|           0|       0|                 0|         0|               0|                0|    1|        1|        0.0|            0.0|        0.0|            0.0|          1.0|          0.0|               0.0|           1.0|              43.0|                   1.0|                   0.0|                        1.0|                       0.51|                 0.0|                     0.0|                 0.0|                     0.0|\n",
       "|         icmp|  eco_i|  SF|  ipsweep.|       0|        8|        0|             0|     0|  0|                0|              0|         0|           0|       0|                 0|         0|               0|                0|    1|        1|        0.0|            0.0|        0.0|            0.0|          1.0|          0.0|               0.0|           1.0|              53.0|                   1.0|                   0.0|                        1.0|                       0.51|                 0.0|                     0.0|                 0.0|                     0.0|\n",
       "|         icmp|  eco_i|  SF|  ipsweep.|       0|        8|        0|             0|     0|  0|                0|              0|         0|           0|       0|                 0|         0|               0|                0|    1|        1|        0.0|            0.0|        0.0|            0.0|          1.0|          0.0|               0.0|           1.0|              97.0|                   1.0|                   0.0|                        1.0|                       0.51|                 0.0|                     0.0|                 0.0|                     0.0|\n",
       "|         icmp|  eco_i|  SF|  ipsweep.|       0|        8|        0|             0|     0|  0|                0|              0|         0|           0|       0|                 0|         0|               0|                0|    1|        1|        0.0|            0.0|        0.0|            0.0|          1.0|          0.0|               0.0|           1.0|             127.0|                   1.0|                   0.0|                        1.0|                        0.5|                 0.0|                     0.0|                 0.0|                     0.0|\n",
       "|         icmp|  eco_i|  SF|  ipsweep.|       0|        8|        0|             0|     0|  0|                0|              0|         0|           0|       0|                 0|         0|               0|                0|    1|        1|        0.0|            0.0|        0.0|            0.0|          1.0|          0.0|               0.0|           1.0|             131.0|                   1.0|                   0.0|                        1.0|                        0.5|                 0.0|                     0.0|                 0.0|                     0.0|\n",
       "|         icmp|  eco_i|  SF|  ipsweep.|       0|        8|        0|             0|     0|  0|                0|              0|         0|           0|       0|                 0|         0|               0|                0|    1|        1|        0.0|            0.0|        0.0|            0.0|          1.0|          0.0|               0.0|           1.0|             233.0|                   1.0|                   0.0|                        1.0|                        0.5|                 0.0|                     0.0|                 0.0|                     0.0|\n",
       "|         icmp|  eco_i|  SF|  ipsweep.|       0|        8|        0|             0|     0|  0|                0|              0|         0|           0|       0|                 0|         0|               0|                0|    1|        1|        0.0|            0.0|        0.0|            0.0|          1.0|          0.0|               0.0|           1.0|             255.0|                   1.0|                   0.0|                        1.0|                        0.5|                 0.0|                     0.0|                 0.0|                     0.0|\n",
       "|         icmp|  eco_i|  SF|  ipsweep.|       0|        8|        0|             0|     0|  0|                0|              0|         0|           0|       0|                 0|         0|               0|                0|    1|        1|        0.0|            0.0|        0.0|            0.0|          1.0|          0.0|               0.0|           1.0|             255.0|                   1.0|                   0.0|                        1.0|                        0.5|                 0.0|                     0.0|                 0.0|                     0.0|\n",
       "|         icmp|  eco_i|  SF|  ipsweep.|       0|        8|        0|             0|     0|  0|                0|              0|         0|           0|       0|                 0|         0|               0|                0|    1|        1|        0.0|            0.0|        0.0|            0.0|          1.0|          0.0|               0.0|           1.0|             255.0|                   1.0|                   0.0|                        1.0|                        0.5|                 0.0|                     0.0|                 0.0|                     0.0|\n",
       "|         icmp|  eco_i|  SF|  ipsweep.|       0|        8|        0|             0|     0|  0|                0|              0|         0|           0|       0|                 0|         0|               0|                0|    1|        1|        0.0|            0.0|        0.0|            0.0|          1.0|          0.0|               0.0|           1.0|             255.0|                   1.0|                   0.0|                        1.0|                        0.5|                 0.0|                     0.0|                 0.0|                     0.0|\n",
       "|         icmp|  eco_i|  SF|  ipsweep.|       0|        8|        0|             0|     0|  0|                0|              0|         0|           0|       0|                 0|         0|               0|                0|    1|        1|        0.0|            0.0|        0.0|            0.0|          1.0|          0.0|               0.0|           1.0|             255.0|                   1.0|                   0.0|                        1.0|                        0.5|                 0.0|                     0.0|                 0.0|                     0.0|\n",
       "|         icmp|  eco_i|  SF|  ipsweep.|       0|        8|        0|             0|     0|  0|                0|              0|         0|           0|       0|                 0|         0|               0|                0|    1|        1|        0.0|            0.0|        0.0|            0.0|          1.0|          0.0|               0.0|           1.0|             255.0|                   1.0|                   0.0|                        1.0|                        0.5|                 0.0|                     0.0|                 0.0|                     0.0|\n",
       "|         icmp|  eco_i|  SF|  ipsweep.|       0|        8|        0|             0|     0|  0|                0|              0|         0|           0|       0|                 0|         0|               0|                0|    1|        1|        0.0|            0.0|        0.0|            0.0|          1.0|          0.0|               0.0|           1.0|             255.0|                   1.0|                   0.0|                        1.0|                        0.5|                 0.0|                     0.0|                 0.0|                     0.0|\n",
       "|         icmp|  eco_i|  SF|  ipsweep.|       0|        8|        0|             0|     0|  0|                0|              0|         0|           0|       0|                 0|         0|               0|                0|    1|        1|        0.0|            0.0|        0.0|            0.0|          1.0|          0.0|               0.0|           1.0|             255.0|                   1.0|                   0.0|                        1.0|                        0.5|                 0.0|                     0.0|                 0.0|                     0.0|\n",
       "|         icmp|  eco_i|  SF|  ipsweep.|       0|        8|        0|             0|     0|  0|                0|              0|         0|           0|       0|                 0|         0|               0|                0|    1|        1|        0.0|            0.0|        0.0|            0.0|          1.0|          0.0|               0.0|           1.0|             255.0|                   1.0|                   0.0|                        1.0|                        0.5|                 0.0|                     0.0|                 0.0|                     0.0|\n",
       "|         icmp|  eco_i|  SF|  ipsweep.|       0|        8|        0|             0|     0|  0|                0|              0|         0|           0|       0|                 0|         0|               0|                0|    1|        1|        0.0|            0.0|        0.0|            0.0|          1.0|          0.0|               0.0|           1.0|             255.0|                   1.0|                   0.0|                        1.0|                        0.5|                 0.0|                     0.0|                 0.0|                     0.0|\n",
       "|         icmp|  eco_i|  SF|  ipsweep.|       0|        8|        0|             0|     0|  0|                0|              0|         0|           0|       0|                 0|         0|               0|                0|    1|        1|        0.0|            0.0|        0.0|            0.0|          1.0|          0.0|               0.0|           1.0|             255.0|                   1.0|                   0.0|                        1.0|                        0.5|                 0.0|                     0.0|                 0.0|                     0.0|\n",
       "+-------------+-------+----+----------+--------+---------+---------+--------------+------+---+-----------------+---------------+----------+------------+--------+------------------+----------+----------------+-----------------+-----+---------+-----------+---------------+-----------+---------------+-------------+-------------+------------------+--------------+------------------+----------------------+----------------------+---------------------------+---------------------------+--------------------+------------------------+--------------------+------------------------+\n",
       "only showing top 20 rows"
      ]
     },
     "execution_count": 6,
     "metadata": {},
     "output_type": "execute_result"
    }
   ],
   "source": [
    "train_data.cache()"
   ]
  },
  {
   "cell_type": "code",
   "execution_count": 7,
   "id": "700d0bae",
   "metadata": {},
   "outputs": [],
   "source": [
    "services = train_data.withColumnRenamed('service','srvc').select('srvc').distinct()"
   ]
  },
  {
   "cell_type": "code",
   "execution_count": 8,
   "id": "341164a1",
   "metadata": {},
   "outputs": [],
   "source": [
    "## filter and remove any rows with a service not trained upon"
   ]
  },
  {
   "cell_type": "code",
   "execution_count": 9,
   "id": "27c68a9b",
   "metadata": {},
   "outputs": [
    {
     "data": {
      "text/html": [
       "<table border='1'>\n",
       "<tr><th>protocol_type</th><th>service</th><th>flag</th><th>is_anomaly</th><th>duration</th><th>src_bytes</th><th>dst_bytes</th><th>wrong_fragment</th><th>urgent</th><th>hot</th><th>num_failed_logins</th><th>num_compromised</th><th>root_shell</th><th>su_attempted</th><th>num_root</th><th>num_file_creations</th><th>num_shells</th><th>num_access_files</th><th>num_outbound_cmds</th><th>count</th><th>srv_count</th><th>serror_rate</th><th>srv_serror_rate</th><th>rerror_rate</th><th>srv_rerror_rate</th><th>same_srv_rate</th><th>diff_srv_rate</th><th>srv_diff_host_rate</th><th>dst_host_count</th><th>dst_host_srv_count</th><th>dst_host_same_srv_rate</th><th>dst_host_diff_srv_rate</th><th>dst_host_same_src_port_rate</th><th>dst_host_srv_diff_host_rate</th><th>dst_host_serror_rate</th><th>dst_host_srv_serror_rate</th><th>dst_host_rerror_rate</th><th>dst_host_srv_rerror_rate</th><th>srvc</th></tr>\n",
       "<tr><td>tcp</td><td>telnet</td><td>SF</td><td>normal.</td><td>18303</td><td>4398</td><td>24224</td><td>0</td><td>0</td><td>3</td><td>0</td><td>2</td><td>0</td><td>0</td><td>4</td><td>22</td><td>0</td><td>0</td><td>0</td><td>1</td><td>1</td><td>0.0</td><td>0.0</td><td>0.0</td><td>0.0</td><td>1.0</td><td>0.0</td><td>0.0</td><td>48.0</td><td>12.0</td><td>0.25</td><td>0.1</td><td>0.02</td><td>0.0</td><td>0.02</td><td>0.08</td><td>0.0</td><td>0.0</td><td>telnet</td></tr>\n",
       "<tr><td>tcp</td><td>telnet</td><td>SF</td><td>normal.</td><td>13956</td><td>7297</td><td>13479</td><td>0</td><td>0</td><td>0</td><td>0</td><td>1</td><td>0</td><td>0</td><td>0</td><td>32</td><td>0</td><td>0</td><td>0</td><td>1</td><td>1</td><td>0.0</td><td>0.0</td><td>0.0</td><td>0.0</td><td>1.0</td><td>0.0</td><td>0.0</td><td>42.0</td><td>8.0</td><td>0.19</td><td>0.12</td><td>0.02</td><td>0.0</td><td>0.0</td><td>0.0</td><td>0.0</td><td>0.0</td><td>telnet</td></tr>\n",
       "<tr><td>tcp</td><td>telnet</td><td>SF</td><td>normal.</td><td>13150</td><td>603</td><td>1777</td><td>0</td><td>0</td><td>0</td><td>0</td><td>0</td><td>0</td><td>0</td><td>0</td><td>0</td><td>0</td><td>0</td><td>0</td><td>1</td><td>1</td><td>0.0</td><td>0.0</td><td>0.0</td><td>0.0</td><td>1.0</td><td>0.0</td><td>0.0</td><td>216.0</td><td>34.0</td><td>0.16</td><td>0.03</td><td>0.0</td><td>0.0</td><td>0.0</td><td>0.03</td><td>0.01</td><td>0.06</td><td>telnet</td></tr>\n",
       "<tr><td>tcp</td><td>telnet</td><td>SF</td><td>normal.</td><td>12882</td><td>709</td><td>110716</td><td>0</td><td>0</td><td>0</td><td>0</td><td>435</td><td>1</td><td>2</td><td>480</td><td>0</td><td>0</td><td>4</td><td>0</td><td>1</td><td>1</td><td>0.0</td><td>0.0</td><td>0.0</td><td>0.0</td><td>1.0</td><td>0.0</td><td>0.0</td><td>26.0</td><td>7.0</td><td>0.27</td><td>0.15</td><td>0.04</td><td>0.0</td><td>0.04</td><td>0.14</td><td>0.0</td><td>0.0</td><td>telnet</td></tr>\n",
       "<tr><td>tcp</td><td>telnet</td><td>SF</td><td>normal.</td><td>12634</td><td>3374</td><td>19165</td><td>0</td><td>0</td><td>3</td><td>0</td><td>1</td><td>0</td><td>0</td><td>2</td><td>17</td><td>0</td><td>0</td><td>0</td><td>1</td><td>1</td><td>0.0</td><td>0.0</td><td>0.0</td><td>0.0</td><td>1.0</td><td>0.0</td><td>0.0</td><td>120.0</td><td>25.0</td><td>0.21</td><td>0.05</td><td>0.01</td><td>0.0</td><td>0.01</td><td>0.04</td><td>0.02</td><td>0.08</td><td>telnet</td></tr>\n",
       "<tr><td>tcp</td><td>telnet</td><td>SF</td><td>normal.</td><td>11839</td><td>2469</td><td>9509</td><td>0</td><td>0</td><td>1</td><td>0</td><td>1</td><td>0</td><td>0</td><td>2</td><td>11</td><td>0</td><td>2</td><td>0</td><td>1</td><td>1</td><td>0.0</td><td>0.0</td><td>0.0</td><td>0.0</td><td>1.0</td><td>0.0</td><td>0.0</td><td>101.0</td><td>20.0</td><td>0.2</td><td>0.05</td><td>0.01</td><td>0.0</td><td>0.01</td><td>0.05</td><td>0.0</td><td>0.0</td><td>telnet</td></tr>\n",
       "<tr><td>tcp</td><td>telnet</td><td>SF</td><td>normal.</td><td>11807</td><td>6975</td><td>13526</td><td>0</td><td>0</td><td>0</td><td>0</td><td>0</td><td>0</td><td>0</td><td>0</td><td>23</td><td>0</td><td>1</td><td>0</td><td>1</td><td>1</td><td>0.0</td><td>0.0</td><td>0.0</td><td>0.0</td><td>1.0</td><td>0.0</td><td>0.0</td><td>96.0</td><td>19.0</td><td>0.2</td><td>0.05</td><td>0.01</td><td>0.0</td><td>0.01</td><td>0.05</td><td>0.0</td><td>0.0</td><td>telnet</td></tr>\n",
       "<tr><td>tcp</td><td>telnet</td><td>SF</td><td>normal.</td><td>11039</td><td>7587</td><td>15913</td><td>0</td><td>0</td><td>0</td><td>0</td><td>0</td><td>0</td><td>0</td><td>0</td><td>13</td><td>0</td><td>0</td><td>0</td><td>1</td><td>1</td><td>0.0</td><td>0.0</td><td>0.0</td><td>0.0</td><td>1.0</td><td>0.0</td><td>0.0</td><td>166.0</td><td>29.0</td><td>0.17</td><td>0.04</td><td>0.01</td><td>0.0</td><td>0.01</td><td>0.03</td><td>0.01</td><td>0.07</td><td>telnet</td></tr>\n",
       "<tr><td>tcp</td><td>telnet</td><td>SF</td><td>normal.</td><td>851</td><td>783</td><td>2825</td><td>0</td><td>0</td><td>0</td><td>0</td><td>18</td><td>0</td><td>0</td><td>0</td><td>0</td><td>0</td><td>1</td><td>0</td><td>1</td><td>1</td><td>0.0</td><td>0.0</td><td>0.0</td><td>0.0</td><td>1.0</td><td>0.0</td><td>0.0</td><td>213.0</td><td>33.0</td><td>0.15</td><td>0.03</td><td>0.0</td><td>0.0</td><td>0.0</td><td>0.03</td><td>0.01</td><td>0.06</td><td>telnet</td></tr>\n",
       "<tr><td>tcp</td><td>telnet</td><td>SF</td><td>normal.</td><td>651</td><td>510</td><td>2354</td><td>0</td><td>0</td><td>0</td><td>0</td><td>12</td><td>0</td><td>0</td><td>0</td><td>0</td><td>0</td><td>0</td><td>0</td><td>1</td><td>1</td><td>0.0</td><td>0.0</td><td>0.0</td><td>0.0</td><td>1.0</td><td>0.0</td><td>0.0</td><td>87.0</td><td>18.0</td><td>0.21</td><td>0.07</td><td>0.01</td><td>0.0</td><td>0.01</td><td>0.06</td><td>0.0</td><td>0.0</td><td>telnet</td></tr>\n",
       "<tr><td>tcp</td><td>telnet</td><td>SF</td><td>normal.</td><td>503</td><td>439</td><td>2219</td><td>0</td><td>0</td><td>0</td><td>0</td><td>10</td><td>0</td><td>0</td><td>0</td><td>0</td><td>0</td><td>0</td><td>0</td><td>1</td><td>1</td><td>0.0</td><td>0.0</td><td>0.0</td><td>0.0</td><td>1.0</td><td>0.0</td><td>0.0</td><td>17.0</td><td>4.0</td><td>0.18</td><td>0.24</td><td>0.06</td><td>0.5</td><td>0.0</td><td>0.0</td><td>0.0</td><td>0.0</td><td>telnet</td></tr>\n",
       "<tr><td>tcp</td><td>telnet</td><td>SF</td><td>normal.</td><td>469</td><td>312</td><td>2025</td><td>0</td><td>0</td><td>0</td><td>0</td><td>8</td><td>0</td><td>0</td><td>0</td><td>0</td><td>0</td><td>0</td><td>0</td><td>15</td><td>1</td><td>0.07</td><td>0.0</td><td>0.0</td><td>0.0</td><td>0.07</td><td>0.13</td><td>0.0</td><td>167.0</td><td>25.0</td><td>0.15</td><td>0.03</td><td>0.01</td><td>0.0</td><td>0.01</td><td>0.04</td><td>0.0</td><td>0.0</td><td>telnet</td></tr>\n",
       "<tr><td>tcp</td><td>telnet</td><td>SF</td><td>normal.</td><td>467</td><td>322</td><td>2035</td><td>0</td><td>0</td><td>0</td><td>0</td><td>8</td><td>0</td><td>0</td><td>0</td><td>0</td><td>0</td><td>0</td><td>0</td><td>1</td><td>1</td><td>0.0</td><td>0.0</td><td>0.0</td><td>0.0</td><td>1.0</td><td>0.0</td><td>0.0</td><td>223.0</td><td>36.0</td><td>0.16</td><td>0.03</td><td>0.0</td><td>0.0</td><td>0.0</td><td>0.03</td><td>0.01</td><td>0.06</td><td>telnet</td></tr>\n",
       "<tr><td>tcp</td><td>telnet</td><td>SF</td><td>normal.</td><td>441</td><td>344</td><td>2057</td><td>0</td><td>0</td><td>0</td><td>0</td><td>8</td><td>0</td><td>0</td><td>0</td><td>0</td><td>0</td><td>0</td><td>0</td><td>1</td><td>1</td><td>0.0</td><td>0.0</td><td>0.0</td><td>0.0</td><td>1.0</td><td>0.0</td><td>0.0</td><td>118.0</td><td>23.0</td><td>0.19</td><td>0.05</td><td>0.01</td><td>0.0</td><td>0.01</td><td>0.04</td><td>0.02</td><td>0.09</td><td>telnet</td></tr>\n",
       "<tr><td>tcp</td><td>telnet</td><td>SF</td><td>normal.</td><td>440</td><td>162</td><td>7063</td><td>0</td><td>2</td><td>0</td><td>0</td><td>0</td><td>0</td><td>0</td><td>0</td><td>0</td><td>0</td><td>0</td><td>0</td><td>1</td><td>1</td><td>0.0</td><td>0.0</td><td>0.0</td><td>0.0</td><td>1.0</td><td>0.0</td><td>0.0</td><td>2.0</td><td>10.0</td><td>1.0</td><td>0.0</td><td>0.5</td><td>0.7</td><td>0.0</td><td>0.0</td><td>0.0</td><td>0.0</td><td>telnet</td></tr>\n",
       "<tr><td>tcp</td><td>telnet</td><td>SF</td><td>normal.</td><td>281</td><td>163</td><td>1744</td><td>0</td><td>0</td><td>0</td><td>0</td><td>4</td><td>0</td><td>0</td><td>0</td><td>0</td><td>0</td><td>0</td><td>0</td><td>1</td><td>1</td><td>0.0</td><td>0.0</td><td>0.0</td><td>0.0</td><td>1.0</td><td>0.0</td><td>0.0</td><td>190.0</td><td>27.0</td><td>0.14</td><td>0.08</td><td>0.01</td><td>0.0</td><td>0.01</td><td>0.04</td><td>0.0</td><td>0.0</td><td>telnet</td></tr>\n",
       "<tr><td>tcp</td><td>telnet</td><td>SF</td><td>normal.</td><td>250</td><td>206</td><td>1767</td><td>0</td><td>0</td><td>0</td><td>0</td><td>5</td><td>0</td><td>0</td><td>0</td><td>0</td><td>0</td><td>0</td><td>0</td><td>1</td><td>1</td><td>0.0</td><td>0.0</td><td>0.0</td><td>0.0</td><td>1.0</td><td>0.0</td><td>0.0</td><td>30.0</td><td>5.0</td><td>0.17</td><td>0.13</td><td>0.03</td><td>0.0</td><td>0.0</td><td>0.0</td><td>0.0</td><td>0.0</td><td>telnet</td></tr>\n",
       "<tr><td>tcp</td><td>telnet</td><td>SF</td><td>normal.</td><td>179</td><td>170</td><td>1751</td><td>0</td><td>0</td><td>0</td><td>0</td><td>4</td><td>0</td><td>0</td><td>0</td><td>0</td><td>0</td><td>0</td><td>0</td><td>1</td><td>1</td><td>0.0</td><td>0.0</td><td>0.0</td><td>0.0</td><td>1.0</td><td>0.0</td><td>0.0</td><td>72.0</td><td>18.0</td><td>0.25</td><td>0.06</td><td>0.01</td><td>0.0</td><td>0.01</td><td>0.06</td><td>0.0</td><td>0.0</td><td>telnet</td></tr>\n",
       "<tr><td>tcp</td><td>telnet</td><td>SF</td><td>normal.</td><td>156</td><td>162</td><td>35290</td><td>0</td><td>0</td><td>0</td><td>0</td><td>0</td><td>0</td><td>0</td><td>0</td><td>0</td><td>0</td><td>0</td><td>0</td><td>1</td><td>1</td><td>0.0</td><td>0.0</td><td>0.0</td><td>0.0</td><td>1.0</td><td>0.0</td><td>0.0</td><td>42.0</td><td>2.0</td><td>0.02</td><td>0.12</td><td>0.02</td><td>1.0</td><td>0.0</td><td>0.0</td><td>0.0</td><td>0.0</td><td>telnet</td></tr>\n",
       "<tr><td>tcp</td><td>telnet</td><td>SF</td><td>normal.</td><td>117</td><td>195</td><td>28035</td><td>0</td><td>0</td><td>0</td><td>0</td><td>0</td><td>0</td><td>0</td><td>0</td><td>0</td><td>0</td><td>0</td><td>0</td><td>1</td><td>1</td><td>0.0</td><td>0.0</td><td>0.0</td><td>0.0</td><td>1.0</td><td>0.0</td><td>0.0</td><td>1.0</td><td>2.0</td><td>1.0</td><td>0.0</td><td>1.0</td><td>1.0</td><td>0.0</td><td>0.0</td><td>0.0</td><td>0.0</td><td>telnet</td></tr>\n",
       "</table>\n",
       "only showing top 20 rows\n"
      ],
      "text/plain": [
       "+-------------+-------+----+----------+--------+---------+---------+--------------+------+---+-----------------+---------------+----------+------------+--------+------------------+----------+----------------+-----------------+-----+---------+-----------+---------------+-----------+---------------+-------------+-------------+------------------+--------------+------------------+----------------------+----------------------+---------------------------+---------------------------+--------------------+------------------------+--------------------+------------------------+------+\n",
       "|protocol_type|service|flag|is_anomaly|duration|src_bytes|dst_bytes|wrong_fragment|urgent|hot|num_failed_logins|num_compromised|root_shell|su_attempted|num_root|num_file_creations|num_shells|num_access_files|num_outbound_cmds|count|srv_count|serror_rate|srv_serror_rate|rerror_rate|srv_rerror_rate|same_srv_rate|diff_srv_rate|srv_diff_host_rate|dst_host_count|dst_host_srv_count|dst_host_same_srv_rate|dst_host_diff_srv_rate|dst_host_same_src_port_rate|dst_host_srv_diff_host_rate|dst_host_serror_rate|dst_host_srv_serror_rate|dst_host_rerror_rate|dst_host_srv_rerror_rate|  srvc|\n",
       "+-------------+-------+----+----------+--------+---------+---------+--------------+------+---+-----------------+---------------+----------+------------+--------+------------------+----------+----------------+-----------------+-----+---------+-----------+---------------+-----------+---------------+-------------+-------------+------------------+--------------+------------------+----------------------+----------------------+---------------------------+---------------------------+--------------------+------------------------+--------------------+------------------------+------+\n",
       "|          tcp| telnet|  SF|   normal.|   18303|     4398|    24224|             0|     0|  3|                0|              2|         0|           0|       4|                22|         0|               0|                0|    1|        1|        0.0|            0.0|        0.0|            0.0|          1.0|          0.0|               0.0|          48.0|              12.0|                  0.25|                   0.1|                       0.02|                        0.0|                0.02|                    0.08|                 0.0|                     0.0|telnet|\n",
       "|          tcp| telnet|  SF|   normal.|   13956|     7297|    13479|             0|     0|  0|                0|              1|         0|           0|       0|                32|         0|               0|                0|    1|        1|        0.0|            0.0|        0.0|            0.0|          1.0|          0.0|               0.0|          42.0|               8.0|                  0.19|                  0.12|                       0.02|                        0.0|                 0.0|                     0.0|                 0.0|                     0.0|telnet|\n",
       "|          tcp| telnet|  SF|   normal.|   13150|      603|     1777|             0|     0|  0|                0|              0|         0|           0|       0|                 0|         0|               0|                0|    1|        1|        0.0|            0.0|        0.0|            0.0|          1.0|          0.0|               0.0|         216.0|              34.0|                  0.16|                  0.03|                        0.0|                        0.0|                 0.0|                    0.03|                0.01|                    0.06|telnet|\n",
       "|          tcp| telnet|  SF|   normal.|   12882|      709|   110716|             0|     0|  0|                0|            435|         1|           2|     480|                 0|         0|               4|                0|    1|        1|        0.0|            0.0|        0.0|            0.0|          1.0|          0.0|               0.0|          26.0|               7.0|                  0.27|                  0.15|                       0.04|                        0.0|                0.04|                    0.14|                 0.0|                     0.0|telnet|\n",
       "|          tcp| telnet|  SF|   normal.|   12634|     3374|    19165|             0|     0|  3|                0|              1|         0|           0|       2|                17|         0|               0|                0|    1|        1|        0.0|            0.0|        0.0|            0.0|          1.0|          0.0|               0.0|         120.0|              25.0|                  0.21|                  0.05|                       0.01|                        0.0|                0.01|                    0.04|                0.02|                    0.08|telnet|\n",
       "|          tcp| telnet|  SF|   normal.|   11839|     2469|     9509|             0|     0|  1|                0|              1|         0|           0|       2|                11|         0|               2|                0|    1|        1|        0.0|            0.0|        0.0|            0.0|          1.0|          0.0|               0.0|         101.0|              20.0|                   0.2|                  0.05|                       0.01|                        0.0|                0.01|                    0.05|                 0.0|                     0.0|telnet|\n",
       "|          tcp| telnet|  SF|   normal.|   11807|     6975|    13526|             0|     0|  0|                0|              0|         0|           0|       0|                23|         0|               1|                0|    1|        1|        0.0|            0.0|        0.0|            0.0|          1.0|          0.0|               0.0|          96.0|              19.0|                   0.2|                  0.05|                       0.01|                        0.0|                0.01|                    0.05|                 0.0|                     0.0|telnet|\n",
       "|          tcp| telnet|  SF|   normal.|   11039|     7587|    15913|             0|     0|  0|                0|              0|         0|           0|       0|                13|         0|               0|                0|    1|        1|        0.0|            0.0|        0.0|            0.0|          1.0|          0.0|               0.0|         166.0|              29.0|                  0.17|                  0.04|                       0.01|                        0.0|                0.01|                    0.03|                0.01|                    0.07|telnet|\n",
       "|          tcp| telnet|  SF|   normal.|     851|      783|     2825|             0|     0|  0|                0|             18|         0|           0|       0|                 0|         0|               1|                0|    1|        1|        0.0|            0.0|        0.0|            0.0|          1.0|          0.0|               0.0|         213.0|              33.0|                  0.15|                  0.03|                        0.0|                        0.0|                 0.0|                    0.03|                0.01|                    0.06|telnet|\n",
       "|          tcp| telnet|  SF|   normal.|     651|      510|     2354|             0|     0|  0|                0|             12|         0|           0|       0|                 0|         0|               0|                0|    1|        1|        0.0|            0.0|        0.0|            0.0|          1.0|          0.0|               0.0|          87.0|              18.0|                  0.21|                  0.07|                       0.01|                        0.0|                0.01|                    0.06|                 0.0|                     0.0|telnet|\n",
       "|          tcp| telnet|  SF|   normal.|     503|      439|     2219|             0|     0|  0|                0|             10|         0|           0|       0|                 0|         0|               0|                0|    1|        1|        0.0|            0.0|        0.0|            0.0|          1.0|          0.0|               0.0|          17.0|               4.0|                  0.18|                  0.24|                       0.06|                        0.5|                 0.0|                     0.0|                 0.0|                     0.0|telnet|\n",
       "|          tcp| telnet|  SF|   normal.|     469|      312|     2025|             0|     0|  0|                0|              8|         0|           0|       0|                 0|         0|               0|                0|   15|        1|       0.07|            0.0|        0.0|            0.0|         0.07|         0.13|               0.0|         167.0|              25.0|                  0.15|                  0.03|                       0.01|                        0.0|                0.01|                    0.04|                 0.0|                     0.0|telnet|\n",
       "|          tcp| telnet|  SF|   normal.|     467|      322|     2035|             0|     0|  0|                0|              8|         0|           0|       0|                 0|         0|               0|                0|    1|        1|        0.0|            0.0|        0.0|            0.0|          1.0|          0.0|               0.0|         223.0|              36.0|                  0.16|                  0.03|                        0.0|                        0.0|                 0.0|                    0.03|                0.01|                    0.06|telnet|\n",
       "|          tcp| telnet|  SF|   normal.|     441|      344|     2057|             0|     0|  0|                0|              8|         0|           0|       0|                 0|         0|               0|                0|    1|        1|        0.0|            0.0|        0.0|            0.0|          1.0|          0.0|               0.0|         118.0|              23.0|                  0.19|                  0.05|                       0.01|                        0.0|                0.01|                    0.04|                0.02|                    0.09|telnet|\n",
       "|          tcp| telnet|  SF|   normal.|     440|      162|     7063|             0|     2|  0|                0|              0|         0|           0|       0|                 0|         0|               0|                0|    1|        1|        0.0|            0.0|        0.0|            0.0|          1.0|          0.0|               0.0|           2.0|              10.0|                   1.0|                   0.0|                        0.5|                        0.7|                 0.0|                     0.0|                 0.0|                     0.0|telnet|\n",
       "|          tcp| telnet|  SF|   normal.|     281|      163|     1744|             0|     0|  0|                0|              4|         0|           0|       0|                 0|         0|               0|                0|    1|        1|        0.0|            0.0|        0.0|            0.0|          1.0|          0.0|               0.0|         190.0|              27.0|                  0.14|                  0.08|                       0.01|                        0.0|                0.01|                    0.04|                 0.0|                     0.0|telnet|\n",
       "|          tcp| telnet|  SF|   normal.|     250|      206|     1767|             0|     0|  0|                0|              5|         0|           0|       0|                 0|         0|               0|                0|    1|        1|        0.0|            0.0|        0.0|            0.0|          1.0|          0.0|               0.0|          30.0|               5.0|                  0.17|                  0.13|                       0.03|                        0.0|                 0.0|                     0.0|                 0.0|                     0.0|telnet|\n",
       "|          tcp| telnet|  SF|   normal.|     179|      170|     1751|             0|     0|  0|                0|              4|         0|           0|       0|                 0|         0|               0|                0|    1|        1|        0.0|            0.0|        0.0|            0.0|          1.0|          0.0|               0.0|          72.0|              18.0|                  0.25|                  0.06|                       0.01|                        0.0|                0.01|                    0.06|                 0.0|                     0.0|telnet|\n",
       "|          tcp| telnet|  SF|   normal.|     156|      162|    35290|             0|     0|  0|                0|              0|         0|           0|       0|                 0|         0|               0|                0|    1|        1|        0.0|            0.0|        0.0|            0.0|          1.0|          0.0|               0.0|          42.0|               2.0|                  0.02|                  0.12|                       0.02|                        1.0|                 0.0|                     0.0|                 0.0|                     0.0|telnet|\n",
       "|          tcp| telnet|  SF|   normal.|     117|      195|    28035|             0|     0|  0|                0|              0|         0|           0|       0|                 0|         0|               0|                0|    1|        1|        0.0|            0.0|        0.0|            0.0|          1.0|          0.0|               0.0|           1.0|               2.0|                   1.0|                   0.0|                        1.0|                        1.0|                 0.0|                     0.0|                 0.0|                     0.0|telnet|\n",
       "+-------------+-------+----+----------+--------+---------+---------+--------------+------+---+-----------------+---------------+----------+------------+--------+------------------+----------+----------------+-----------------+-----+---------+-----------+---------------+-----------+---------------+-------------+-------------+------------------+--------------+------------------+----------------------+----------------------+---------------------------+---------------------------+--------------------+------------------------+--------------------+------------------------+------+\n",
       "only showing top 20 rows"
      ]
     },
     "execution_count": 9,
     "metadata": {},
     "output_type": "execute_result"
    }
   ],
   "source": [
    "test_data = test_data.join(services, test_data.service == services.srvc)\n",
    "test_data.cache()"
   ]
  },
  {
   "cell_type": "code",
   "execution_count": 12,
   "id": "5de6f2a7",
   "metadata": {},
   "outputs": [
    {
     "name": "stdout",
     "output_type": "stream",
     "text": [
      "training set has 3429322 instances\n"
     ]
    }
   ],
   "source": [
    "print(\"training set has \" + str(train_data.count()) + \" instances\")"
   ]
  },
  {
   "cell_type": "code",
   "execution_count": 13,
   "id": "9bdd5e1d",
   "metadata": {},
   "outputs": [
    {
     "name": "stdout",
     "output_type": "stream",
     "text": [
      "test set has 1469108 instances\n"
     ]
    }
   ],
   "source": [
    "print(\"test set has \" + str(test_data.count()) + \" instances\")"
   ]
  },
  {
   "cell_type": "code",
   "execution_count": 10,
   "id": "e1973169",
   "metadata": {},
   "outputs": [],
   "source": [
    "from pyspark.ml.feature import StringIndexer, VectorAssembler, OneHotEncoder\n",
    "from pyspark.ml import Pipeline\n",
    "from pyspark.ml.classification import RandomForestClassifier"
   ]
  },
  {
   "cell_type": "code",
   "execution_count": 18,
   "id": "b539a212",
   "metadata": {},
   "outputs": [],
   "source": [
    "index1 = StringIndexer(inputCol=\"protocol_type\", outputCol=\"protocol-cat\")\n",
    "index2 = StringIndexer(inputCol=\"service\", outputCol=\"service-cat\")\n",
    "index3 = StringIndexer(inputCol=\"flag\", outputCol=\"flag-cat\")\n",
    "index4 = StringIndexer(inputCol=\"is_anomaly\", outputCol=\"label\")\n",
    "onehotencode = OneHotEncoder(inputCol=\"service-cat\", outputCol=\"service-onehotencode\")\n",
    "\n",
    "feat_columns = [col for col in kdd.columns +\n",
    "               ['protocol-cat','service-onehotencode','flag-cat','label']\n",
    "               if col not in ['protocol_type','service','flag','is_anomaly']]\n",
    "vectorAssembler = VectorAssembler(inputCols = feat_columns, outputCol = 'features')"
   ]
  },
  {
   "cell_type": "code",
   "execution_count": 19,
   "id": "30c39d83",
   "metadata": {},
   "outputs": [],
   "source": [
    "randomjungle = RandomForestClassifier(numTrees=500, maxDepth=6, maxBins=80,seed=42)\n",
    "pipeline = Pipeline(stages=[index1,index2,index3,index4,onehotencode, vectorAssembler, randomjungle])"
   ]
  },
  {
   "cell_type": "code",
   "execution_count": 20,
   "id": "f1b544e4",
   "metadata": {},
   "outputs": [],
   "source": [
    "themodel = pipeline.fit(train_data)"
   ]
  },
  {
   "cell_type": "code",
   "execution_count": 18,
   "id": "e42dd389",
   "metadata": {},
   "outputs": [],
   "source": [
    "themodel.save('/user/itv000684/kdd/model.model')"
   ]
  },
  {
   "cell_type": "code",
   "execution_count": null,
   "id": "ebb1a544",
   "metadata": {},
   "outputs": [],
   "source": []
  }
 ],
 "metadata": {
  "kernelspec": {
   "display_name": "Pyspark 3",
   "language": "python",
   "name": "pyspark3"
  },
  "language_info": {
   "codemirror_mode": {
    "name": "ipython",
    "version": 3
   },
   "file_extension": ".py",
   "mimetype": "text/x-python",
   "name": "python",
   "nbconvert_exporter": "python",
   "pygments_lexer": "ipython3",
   "version": "3.6.12"
  }
 },
 "nbformat": 4,
 "nbformat_minor": 5
}
