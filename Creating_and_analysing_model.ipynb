{
 "cells": [
  {
   "cell_type": "code",
   "execution_count": 1,
   "id": "0b48ecfa",
   "metadata": {},
   "outputs": [],
   "source": [
    "from pyspark import SparkContext, SparkConf\n",
    "from pyspark.sql import HiveContext"
   ]
  },
  {
   "cell_type": "code",
   "execution_count": 2,
   "id": "652613c6",
   "metadata": {},
   "outputs": [],
   "source": [
    "SparkContext.setSystemProperty('spark.executor.memory','4g')\n",
    "conf = SparkConf()\n",
    "conf.set('spark.executor.instances',20)\n",
    "sc = SparkContext('yarn', 'kdd99', conf=conf)\n",
    "hc=HiveContext(sc)"
   ]
  },
  {
   "cell_type": "code",
   "execution_count": 3,
   "id": "d6e22329",
   "metadata": {},
   "outputs": [
    {
     "data": {
      "text/html": [
       "<table border='1'>\n",
       "<tr><th></th></tr>\n",
       "</table>\n"
      ],
      "text/plain": [
       "++\n",
       "||\n",
       "++\n",
       "++"
      ]
     },
     "execution_count": 3,
     "metadata": {},
     "output_type": "execute_result"
    }
   ],
   "source": [
    "hc.sql(\"USE itv000684_kdd99data\")"
   ]
  },
  {
   "cell_type": "code",
   "execution_count": 4,
   "id": "4f28e045",
   "metadata": {},
   "outputs": [],
   "source": [
    "kdd = hc.table(\"kdd99\")"
   ]
  },
  {
   "cell_type": "code",
   "execution_count": 5,
   "id": "1608072f",
   "metadata": {},
   "outputs": [],
   "source": [
    "(train_data, test_data) = kdd.randomSplit([0.7,0.3], seed=42)"
   ]
  },
  {
   "cell_type": "code",
   "execution_count": 6,
   "id": "af930349",
   "metadata": {},
   "outputs": [
    {
     "data": {
      "text/html": [
       "<table border='1'>\n",
       "<tr><th>protocol_type</th><th>service</th><th>flag</th><th>is_anomaly</th><th>duration</th><th>src_bytes</th><th>dst_bytes</th><th>wrong_fragment</th><th>urgent</th><th>hot</th><th>num_failed_logins</th><th>num_compromised</th><th>root_shell</th><th>su_attempted</th><th>num_root</th><th>num_file_creations</th><th>num_shells</th><th>num_access_files</th><th>num_outbound_cmds</th><th>count</th><th>srv_count</th><th>serror_rate</th><th>srv_serror_rate</th><th>rerror_rate</th><th>srv_rerror_rate</th><th>same_srv_rate</th><th>diff_srv_rate</th><th>srv_diff_host_rate</th><th>dst_host_count</th><th>dst_host_srv_count</th><th>dst_host_same_srv_rate</th><th>dst_host_diff_srv_rate</th><th>dst_host_same_src_port_rate</th><th>dst_host_srv_diff_host_rate</th><th>dst_host_serror_rate</th><th>dst_host_srv_serror_rate</th><th>dst_host_rerror_rate</th><th>dst_host_srv_rerror_rate</th></tr>\n",
       "<tr><td>icmp</td><td>eco_i</td><td>SF</td><td>ipsweep.</td><td>0</td><td>8</td><td>0</td><td>0</td><td>0</td><td>0</td><td>0</td><td>0</td><td>0</td><td>0</td><td>0</td><td>0</td><td>0</td><td>0</td><td>0</td><td>1</td><td>1</td><td>0.0</td><td>0.0</td><td>0.0</td><td>0.0</td><td>1.0</td><td>0.0</td><td>0.0</td><td>1.0</td><td>3.0</td><td>1.0</td><td>0.0</td><td>1.0</td><td>0.67</td><td>0.0</td><td>0.0</td><td>0.0</td><td>0.0</td></tr>\n",
       "<tr><td>icmp</td><td>eco_i</td><td>SF</td><td>ipsweep.</td><td>0</td><td>8</td><td>0</td><td>0</td><td>0</td><td>0</td><td>0</td><td>0</td><td>0</td><td>0</td><td>0</td><td>0</td><td>0</td><td>0</td><td>0</td><td>1</td><td>1</td><td>0.0</td><td>0.0</td><td>0.0</td><td>0.0</td><td>1.0</td><td>0.0</td><td>0.0</td><td>1.0</td><td>15.0</td><td>1.0</td><td>0.0</td><td>1.0</td><td>0.53</td><td>0.0</td><td>0.0</td><td>0.0</td><td>0.0</td></tr>\n",
       "<tr><td>icmp</td><td>eco_i</td><td>SF</td><td>ipsweep.</td><td>0</td><td>8</td><td>0</td><td>0</td><td>0</td><td>0</td><td>0</td><td>0</td><td>0</td><td>0</td><td>0</td><td>0</td><td>0</td><td>0</td><td>0</td><td>1</td><td>1</td><td>0.0</td><td>0.0</td><td>0.0</td><td>0.0</td><td>1.0</td><td>0.0</td><td>0.0</td><td>1.0</td><td>29.0</td><td>1.0</td><td>0.0</td><td>1.0</td><td>0.52</td><td>0.0</td><td>0.0</td><td>0.0</td><td>0.0</td></tr>\n",
       "<tr><td>icmp</td><td>eco_i</td><td>SF</td><td>ipsweep.</td><td>0</td><td>8</td><td>0</td><td>0</td><td>0</td><td>0</td><td>0</td><td>0</td><td>0</td><td>0</td><td>0</td><td>0</td><td>0</td><td>0</td><td>0</td><td>1</td><td>1</td><td>0.0</td><td>0.0</td><td>0.0</td><td>0.0</td><td>1.0</td><td>0.0</td><td>0.0</td><td>1.0</td><td>43.0</td><td>1.0</td><td>0.0</td><td>1.0</td><td>0.51</td><td>0.0</td><td>0.0</td><td>0.0</td><td>0.0</td></tr>\n",
       "<tr><td>icmp</td><td>eco_i</td><td>SF</td><td>ipsweep.</td><td>0</td><td>8</td><td>0</td><td>0</td><td>0</td><td>0</td><td>0</td><td>0</td><td>0</td><td>0</td><td>0</td><td>0</td><td>0</td><td>0</td><td>0</td><td>1</td><td>1</td><td>0.0</td><td>0.0</td><td>0.0</td><td>0.0</td><td>1.0</td><td>0.0</td><td>0.0</td><td>1.0</td><td>53.0</td><td>1.0</td><td>0.0</td><td>1.0</td><td>0.51</td><td>0.0</td><td>0.0</td><td>0.0</td><td>0.0</td></tr>\n",
       "<tr><td>icmp</td><td>eco_i</td><td>SF</td><td>ipsweep.</td><td>0</td><td>8</td><td>0</td><td>0</td><td>0</td><td>0</td><td>0</td><td>0</td><td>0</td><td>0</td><td>0</td><td>0</td><td>0</td><td>0</td><td>0</td><td>1</td><td>1</td><td>0.0</td><td>0.0</td><td>0.0</td><td>0.0</td><td>1.0</td><td>0.0</td><td>0.0</td><td>1.0</td><td>97.0</td><td>1.0</td><td>0.0</td><td>1.0</td><td>0.51</td><td>0.0</td><td>0.0</td><td>0.0</td><td>0.0</td></tr>\n",
       "<tr><td>icmp</td><td>eco_i</td><td>SF</td><td>ipsweep.</td><td>0</td><td>8</td><td>0</td><td>0</td><td>0</td><td>0</td><td>0</td><td>0</td><td>0</td><td>0</td><td>0</td><td>0</td><td>0</td><td>0</td><td>0</td><td>1</td><td>1</td><td>0.0</td><td>0.0</td><td>0.0</td><td>0.0</td><td>1.0</td><td>0.0</td><td>0.0</td><td>1.0</td><td>127.0</td><td>1.0</td><td>0.0</td><td>1.0</td><td>0.5</td><td>0.0</td><td>0.0</td><td>0.0</td><td>0.0</td></tr>\n",
       "<tr><td>icmp</td><td>eco_i</td><td>SF</td><td>ipsweep.</td><td>0</td><td>8</td><td>0</td><td>0</td><td>0</td><td>0</td><td>0</td><td>0</td><td>0</td><td>0</td><td>0</td><td>0</td><td>0</td><td>0</td><td>0</td><td>1</td><td>1</td><td>0.0</td><td>0.0</td><td>0.0</td><td>0.0</td><td>1.0</td><td>0.0</td><td>0.0</td><td>1.0</td><td>131.0</td><td>1.0</td><td>0.0</td><td>1.0</td><td>0.5</td><td>0.0</td><td>0.0</td><td>0.0</td><td>0.0</td></tr>\n",
       "<tr><td>icmp</td><td>eco_i</td><td>SF</td><td>ipsweep.</td><td>0</td><td>8</td><td>0</td><td>0</td><td>0</td><td>0</td><td>0</td><td>0</td><td>0</td><td>0</td><td>0</td><td>0</td><td>0</td><td>0</td><td>0</td><td>1</td><td>1</td><td>0.0</td><td>0.0</td><td>0.0</td><td>0.0</td><td>1.0</td><td>0.0</td><td>0.0</td><td>1.0</td><td>233.0</td><td>1.0</td><td>0.0</td><td>1.0</td><td>0.5</td><td>0.0</td><td>0.0</td><td>0.0</td><td>0.0</td></tr>\n",
       "<tr><td>icmp</td><td>eco_i</td><td>SF</td><td>ipsweep.</td><td>0</td><td>8</td><td>0</td><td>0</td><td>0</td><td>0</td><td>0</td><td>0</td><td>0</td><td>0</td><td>0</td><td>0</td><td>0</td><td>0</td><td>0</td><td>1</td><td>1</td><td>0.0</td><td>0.0</td><td>0.0</td><td>0.0</td><td>1.0</td><td>0.0</td><td>0.0</td><td>1.0</td><td>255.0</td><td>1.0</td><td>0.0</td><td>1.0</td><td>0.5</td><td>0.0</td><td>0.0</td><td>0.0</td><td>0.0</td></tr>\n",
       "<tr><td>icmp</td><td>eco_i</td><td>SF</td><td>ipsweep.</td><td>0</td><td>8</td><td>0</td><td>0</td><td>0</td><td>0</td><td>0</td><td>0</td><td>0</td><td>0</td><td>0</td><td>0</td><td>0</td><td>0</td><td>0</td><td>1</td><td>1</td><td>0.0</td><td>0.0</td><td>0.0</td><td>0.0</td><td>1.0</td><td>0.0</td><td>0.0</td><td>1.0</td><td>255.0</td><td>1.0</td><td>0.0</td><td>1.0</td><td>0.5</td><td>0.0</td><td>0.0</td><td>0.0</td><td>0.0</td></tr>\n",
       "<tr><td>icmp</td><td>eco_i</td><td>SF</td><td>ipsweep.</td><td>0</td><td>8</td><td>0</td><td>0</td><td>0</td><td>0</td><td>0</td><td>0</td><td>0</td><td>0</td><td>0</td><td>0</td><td>0</td><td>0</td><td>0</td><td>1</td><td>1</td><td>0.0</td><td>0.0</td><td>0.0</td><td>0.0</td><td>1.0</td><td>0.0</td><td>0.0</td><td>1.0</td><td>255.0</td><td>1.0</td><td>0.0</td><td>1.0</td><td>0.5</td><td>0.0</td><td>0.0</td><td>0.0</td><td>0.0</td></tr>\n",
       "<tr><td>icmp</td><td>eco_i</td><td>SF</td><td>ipsweep.</td><td>0</td><td>8</td><td>0</td><td>0</td><td>0</td><td>0</td><td>0</td><td>0</td><td>0</td><td>0</td><td>0</td><td>0</td><td>0</td><td>0</td><td>0</td><td>1</td><td>1</td><td>0.0</td><td>0.0</td><td>0.0</td><td>0.0</td><td>1.0</td><td>0.0</td><td>0.0</td><td>1.0</td><td>255.0</td><td>1.0</td><td>0.0</td><td>1.0</td><td>0.5</td><td>0.0</td><td>0.0</td><td>0.0</td><td>0.0</td></tr>\n",
       "<tr><td>icmp</td><td>eco_i</td><td>SF</td><td>ipsweep.</td><td>0</td><td>8</td><td>0</td><td>0</td><td>0</td><td>0</td><td>0</td><td>0</td><td>0</td><td>0</td><td>0</td><td>0</td><td>0</td><td>0</td><td>0</td><td>1</td><td>1</td><td>0.0</td><td>0.0</td><td>0.0</td><td>0.0</td><td>1.0</td><td>0.0</td><td>0.0</td><td>1.0</td><td>255.0</td><td>1.0</td><td>0.0</td><td>1.0</td><td>0.5</td><td>0.0</td><td>0.0</td><td>0.0</td><td>0.0</td></tr>\n",
       "<tr><td>icmp</td><td>eco_i</td><td>SF</td><td>ipsweep.</td><td>0</td><td>8</td><td>0</td><td>0</td><td>0</td><td>0</td><td>0</td><td>0</td><td>0</td><td>0</td><td>0</td><td>0</td><td>0</td><td>0</td><td>0</td><td>1</td><td>1</td><td>0.0</td><td>0.0</td><td>0.0</td><td>0.0</td><td>1.0</td><td>0.0</td><td>0.0</td><td>1.0</td><td>255.0</td><td>1.0</td><td>0.0</td><td>1.0</td><td>0.5</td><td>0.0</td><td>0.0</td><td>0.0</td><td>0.0</td></tr>\n",
       "<tr><td>icmp</td><td>eco_i</td><td>SF</td><td>ipsweep.</td><td>0</td><td>8</td><td>0</td><td>0</td><td>0</td><td>0</td><td>0</td><td>0</td><td>0</td><td>0</td><td>0</td><td>0</td><td>0</td><td>0</td><td>0</td><td>1</td><td>1</td><td>0.0</td><td>0.0</td><td>0.0</td><td>0.0</td><td>1.0</td><td>0.0</td><td>0.0</td><td>1.0</td><td>255.0</td><td>1.0</td><td>0.0</td><td>1.0</td><td>0.5</td><td>0.0</td><td>0.0</td><td>0.0</td><td>0.0</td></tr>\n",
       "<tr><td>icmp</td><td>eco_i</td><td>SF</td><td>ipsweep.</td><td>0</td><td>8</td><td>0</td><td>0</td><td>0</td><td>0</td><td>0</td><td>0</td><td>0</td><td>0</td><td>0</td><td>0</td><td>0</td><td>0</td><td>0</td><td>1</td><td>1</td><td>0.0</td><td>0.0</td><td>0.0</td><td>0.0</td><td>1.0</td><td>0.0</td><td>0.0</td><td>1.0</td><td>255.0</td><td>1.0</td><td>0.0</td><td>1.0</td><td>0.5</td><td>0.0</td><td>0.0</td><td>0.0</td><td>0.0</td></tr>\n",
       "<tr><td>icmp</td><td>eco_i</td><td>SF</td><td>ipsweep.</td><td>0</td><td>8</td><td>0</td><td>0</td><td>0</td><td>0</td><td>0</td><td>0</td><td>0</td><td>0</td><td>0</td><td>0</td><td>0</td><td>0</td><td>0</td><td>1</td><td>1</td><td>0.0</td><td>0.0</td><td>0.0</td><td>0.0</td><td>1.0</td><td>0.0</td><td>0.0</td><td>1.0</td><td>255.0</td><td>1.0</td><td>0.0</td><td>1.0</td><td>0.5</td><td>0.0</td><td>0.0</td><td>0.0</td><td>0.0</td></tr>\n",
       "<tr><td>icmp</td><td>eco_i</td><td>SF</td><td>ipsweep.</td><td>0</td><td>8</td><td>0</td><td>0</td><td>0</td><td>0</td><td>0</td><td>0</td><td>0</td><td>0</td><td>0</td><td>0</td><td>0</td><td>0</td><td>0</td><td>1</td><td>1</td><td>0.0</td><td>0.0</td><td>0.0</td><td>0.0</td><td>1.0</td><td>0.0</td><td>0.0</td><td>1.0</td><td>255.0</td><td>1.0</td><td>0.0</td><td>1.0</td><td>0.5</td><td>0.0</td><td>0.0</td><td>0.0</td><td>0.0</td></tr>\n",
       "<tr><td>icmp</td><td>eco_i</td><td>SF</td><td>ipsweep.</td><td>0</td><td>8</td><td>0</td><td>0</td><td>0</td><td>0</td><td>0</td><td>0</td><td>0</td><td>0</td><td>0</td><td>0</td><td>0</td><td>0</td><td>0</td><td>1</td><td>1</td><td>0.0</td><td>0.0</td><td>0.0</td><td>0.0</td><td>1.0</td><td>0.0</td><td>0.0</td><td>1.0</td><td>255.0</td><td>1.0</td><td>0.0</td><td>1.0</td><td>0.5</td><td>0.0</td><td>0.0</td><td>0.0</td><td>0.0</td></tr>\n",
       "</table>\n",
       "only showing top 20 rows\n"
      ],
      "text/plain": [
       "+-------------+-------+----+----------+--------+---------+---------+--------------+------+---+-----------------+---------------+----------+------------+--------+------------------+----------+----------------+-----------------+-----+---------+-----------+---------------+-----------+---------------+-------------+-------------+------------------+--------------+------------------+----------------------+----------------------+---------------------------+---------------------------+--------------------+------------------------+--------------------+------------------------+\n",
       "|protocol_type|service|flag|is_anomaly|duration|src_bytes|dst_bytes|wrong_fragment|urgent|hot|num_failed_logins|num_compromised|root_shell|su_attempted|num_root|num_file_creations|num_shells|num_access_files|num_outbound_cmds|count|srv_count|serror_rate|srv_serror_rate|rerror_rate|srv_rerror_rate|same_srv_rate|diff_srv_rate|srv_diff_host_rate|dst_host_count|dst_host_srv_count|dst_host_same_srv_rate|dst_host_diff_srv_rate|dst_host_same_src_port_rate|dst_host_srv_diff_host_rate|dst_host_serror_rate|dst_host_srv_serror_rate|dst_host_rerror_rate|dst_host_srv_rerror_rate|\n",
       "+-------------+-------+----+----------+--------+---------+---------+--------------+------+---+-----------------+---------------+----------+------------+--------+------------------+----------+----------------+-----------------+-----+---------+-----------+---------------+-----------+---------------+-------------+-------------+------------------+--------------+------------------+----------------------+----------------------+---------------------------+---------------------------+--------------------+------------------------+--------------------+------------------------+\n",
       "|         icmp|  eco_i|  SF|  ipsweep.|       0|        8|        0|             0|     0|  0|                0|              0|         0|           0|       0|                 0|         0|               0|                0|    1|        1|        0.0|            0.0|        0.0|            0.0|          1.0|          0.0|               0.0|           1.0|               3.0|                   1.0|                   0.0|                        1.0|                       0.67|                 0.0|                     0.0|                 0.0|                     0.0|\n",
       "|         icmp|  eco_i|  SF|  ipsweep.|       0|        8|        0|             0|     0|  0|                0|              0|         0|           0|       0|                 0|         0|               0|                0|    1|        1|        0.0|            0.0|        0.0|            0.0|          1.0|          0.0|               0.0|           1.0|              15.0|                   1.0|                   0.0|                        1.0|                       0.53|                 0.0|                     0.0|                 0.0|                     0.0|\n",
       "|         icmp|  eco_i|  SF|  ipsweep.|       0|        8|        0|             0|     0|  0|                0|              0|         0|           0|       0|                 0|         0|               0|                0|    1|        1|        0.0|            0.0|        0.0|            0.0|          1.0|          0.0|               0.0|           1.0|              29.0|                   1.0|                   0.0|                        1.0|                       0.52|                 0.0|                     0.0|                 0.0|                     0.0|\n",
       "|         icmp|  eco_i|  SF|  ipsweep.|       0|        8|        0|             0|     0|  0|                0|              0|         0|           0|       0|                 0|         0|               0|                0|    1|        1|        0.0|            0.0|        0.0|            0.0|          1.0|          0.0|               0.0|           1.0|              43.0|                   1.0|                   0.0|                        1.0|                       0.51|                 0.0|                     0.0|                 0.0|                     0.0|\n",
       "|         icmp|  eco_i|  SF|  ipsweep.|       0|        8|        0|             0|     0|  0|                0|              0|         0|           0|       0|                 0|         0|               0|                0|    1|        1|        0.0|            0.0|        0.0|            0.0|          1.0|          0.0|               0.0|           1.0|              53.0|                   1.0|                   0.0|                        1.0|                       0.51|                 0.0|                     0.0|                 0.0|                     0.0|\n",
       "|         icmp|  eco_i|  SF|  ipsweep.|       0|        8|        0|             0|     0|  0|                0|              0|         0|           0|       0|                 0|         0|               0|                0|    1|        1|        0.0|            0.0|        0.0|            0.0|          1.0|          0.0|               0.0|           1.0|              97.0|                   1.0|                   0.0|                        1.0|                       0.51|                 0.0|                     0.0|                 0.0|                     0.0|\n",
       "|         icmp|  eco_i|  SF|  ipsweep.|       0|        8|        0|             0|     0|  0|                0|              0|         0|           0|       0|                 0|         0|               0|                0|    1|        1|        0.0|            0.0|        0.0|            0.0|          1.0|          0.0|               0.0|           1.0|             127.0|                   1.0|                   0.0|                        1.0|                        0.5|                 0.0|                     0.0|                 0.0|                     0.0|\n",
       "|         icmp|  eco_i|  SF|  ipsweep.|       0|        8|        0|             0|     0|  0|                0|              0|         0|           0|       0|                 0|         0|               0|                0|    1|        1|        0.0|            0.0|        0.0|            0.0|          1.0|          0.0|               0.0|           1.0|             131.0|                   1.0|                   0.0|                        1.0|                        0.5|                 0.0|                     0.0|                 0.0|                     0.0|\n",
       "|         icmp|  eco_i|  SF|  ipsweep.|       0|        8|        0|             0|     0|  0|                0|              0|         0|           0|       0|                 0|         0|               0|                0|    1|        1|        0.0|            0.0|        0.0|            0.0|          1.0|          0.0|               0.0|           1.0|             233.0|                   1.0|                   0.0|                        1.0|                        0.5|                 0.0|                     0.0|                 0.0|                     0.0|\n",
       "|         icmp|  eco_i|  SF|  ipsweep.|       0|        8|        0|             0|     0|  0|                0|              0|         0|           0|       0|                 0|         0|               0|                0|    1|        1|        0.0|            0.0|        0.0|            0.0|          1.0|          0.0|               0.0|           1.0|             255.0|                   1.0|                   0.0|                        1.0|                        0.5|                 0.0|                     0.0|                 0.0|                     0.0|\n",
       "|         icmp|  eco_i|  SF|  ipsweep.|       0|        8|        0|             0|     0|  0|                0|              0|         0|           0|       0|                 0|         0|               0|                0|    1|        1|        0.0|            0.0|        0.0|            0.0|          1.0|          0.0|               0.0|           1.0|             255.0|                   1.0|                   0.0|                        1.0|                        0.5|                 0.0|                     0.0|                 0.0|                     0.0|\n",
       "|         icmp|  eco_i|  SF|  ipsweep.|       0|        8|        0|             0|     0|  0|                0|              0|         0|           0|       0|                 0|         0|               0|                0|    1|        1|        0.0|            0.0|        0.0|            0.0|          1.0|          0.0|               0.0|           1.0|             255.0|                   1.0|                   0.0|                        1.0|                        0.5|                 0.0|                     0.0|                 0.0|                     0.0|\n",
       "|         icmp|  eco_i|  SF|  ipsweep.|       0|        8|        0|             0|     0|  0|                0|              0|         0|           0|       0|                 0|         0|               0|                0|    1|        1|        0.0|            0.0|        0.0|            0.0|          1.0|          0.0|               0.0|           1.0|             255.0|                   1.0|                   0.0|                        1.0|                        0.5|                 0.0|                     0.0|                 0.0|                     0.0|\n",
       "|         icmp|  eco_i|  SF|  ipsweep.|       0|        8|        0|             0|     0|  0|                0|              0|         0|           0|       0|                 0|         0|               0|                0|    1|        1|        0.0|            0.0|        0.0|            0.0|          1.0|          0.0|               0.0|           1.0|             255.0|                   1.0|                   0.0|                        1.0|                        0.5|                 0.0|                     0.0|                 0.0|                     0.0|\n",
       "|         icmp|  eco_i|  SF|  ipsweep.|       0|        8|        0|             0|     0|  0|                0|              0|         0|           0|       0|                 0|         0|               0|                0|    1|        1|        0.0|            0.0|        0.0|            0.0|          1.0|          0.0|               0.0|           1.0|             255.0|                   1.0|                   0.0|                        1.0|                        0.5|                 0.0|                     0.0|                 0.0|                     0.0|\n",
       "|         icmp|  eco_i|  SF|  ipsweep.|       0|        8|        0|             0|     0|  0|                0|              0|         0|           0|       0|                 0|         0|               0|                0|    1|        1|        0.0|            0.0|        0.0|            0.0|          1.0|          0.0|               0.0|           1.0|             255.0|                   1.0|                   0.0|                        1.0|                        0.5|                 0.0|                     0.0|                 0.0|                     0.0|\n",
       "|         icmp|  eco_i|  SF|  ipsweep.|       0|        8|        0|             0|     0|  0|                0|              0|         0|           0|       0|                 0|         0|               0|                0|    1|        1|        0.0|            0.0|        0.0|            0.0|          1.0|          0.0|               0.0|           1.0|             255.0|                   1.0|                   0.0|                        1.0|                        0.5|                 0.0|                     0.0|                 0.0|                     0.0|\n",
       "|         icmp|  eco_i|  SF|  ipsweep.|       0|        8|        0|             0|     0|  0|                0|              0|         0|           0|       0|                 0|         0|               0|                0|    1|        1|        0.0|            0.0|        0.0|            0.0|          1.0|          0.0|               0.0|           1.0|             255.0|                   1.0|                   0.0|                        1.0|                        0.5|                 0.0|                     0.0|                 0.0|                     0.0|\n",
       "|         icmp|  eco_i|  SF|  ipsweep.|       0|        8|        0|             0|     0|  0|                0|              0|         0|           0|       0|                 0|         0|               0|                0|    1|        1|        0.0|            0.0|        0.0|            0.0|          1.0|          0.0|               0.0|           1.0|             255.0|                   1.0|                   0.0|                        1.0|                        0.5|                 0.0|                     0.0|                 0.0|                     0.0|\n",
       "|         icmp|  eco_i|  SF|  ipsweep.|       0|        8|        0|             0|     0|  0|                0|              0|         0|           0|       0|                 0|         0|               0|                0|    1|        1|        0.0|            0.0|        0.0|            0.0|          1.0|          0.0|               0.0|           1.0|             255.0|                   1.0|                   0.0|                        1.0|                        0.5|                 0.0|                     0.0|                 0.0|                     0.0|\n",
       "+-------------+-------+----+----------+--------+---------+---------+--------------+------+---+-----------------+---------------+----------+------------+--------+------------------+----------+----------------+-----------------+-----+---------+-----------+---------------+-----------+---------------+-------------+-------------+------------------+--------------+------------------+----------------------+----------------------+---------------------------+---------------------------+--------------------+------------------------+--------------------+------------------------+\n",
       "only showing top 20 rows"
      ]
     },
     "execution_count": 6,
     "metadata": {},
     "output_type": "execute_result"
    }
   ],
   "source": [
    "train_data.cache()"
   ]
  },
  {
   "cell_type": "code",
   "execution_count": 7,
   "id": "991ed973",
   "metadata": {},
   "outputs": [],
   "source": [
    "services = train_data.withColumnRenamed('service','srvc').select('srvc').distinct()"
   ]
  },
  {
   "cell_type": "code",
   "execution_count": 8,
   "id": "6c7f3a9e",
   "metadata": {},
   "outputs": [],
   "source": [
    "## filter and remove any rows with a service not trained upon"
   ]
  },
  {
   "cell_type": "code",
   "execution_count": 9,
   "id": "fb39aeda",
   "metadata": {},
   "outputs": [],
   "source": [
    "test_data = test_data.join(services, test_data.service == services.srvc)\n",
    "#test_data.cache()"
   ]
  },
  {
   "cell_type": "code",
   "execution_count": 10,
   "id": "90d5a0ea",
   "metadata": {},
   "outputs": [
    {
     "name": "stdout",
     "output_type": "stream",
     "text": [
      "training set has 3429322 instances\n"
     ]
    }
   ],
   "source": [
    "print(\"training set has \" + str(train_data.count()) + \" instances\")"
   ]
  },
  {
   "cell_type": "code",
   "execution_count": 11,
   "id": "ac1de733",
   "metadata": {},
   "outputs": [
    {
     "name": "stdout",
     "output_type": "stream",
     "text": [
      "test set has 1469108 instances\n"
     ]
    }
   ],
   "source": [
    "print(\"test set has \" + str(test_data.count()) + \" instances\")"
   ]
  },
  {
   "cell_type": "code",
   "execution_count": 12,
   "id": "9bf2a99f",
   "metadata": {},
   "outputs": [],
   "source": [
    "from pyspark.ml.feature import StringIndexer, VectorAssembler, OneHotEncoder\n",
    "from pyspark.ml import Pipeline\n",
    "from pyspark.ml.classification import RandomForestClassifier"
   ]
  },
  {
   "cell_type": "code",
   "execution_count": 13,
   "id": "454a6c7c",
   "metadata": {},
   "outputs": [],
   "source": [
    "index1 = StringIndexer(inputCol=\"protocol_type\", outputCol=\"protocol-cat\")\n",
    "index2 = StringIndexer(inputCol=\"service\", outputCol=\"service-cat\")\n",
    "index3 = StringIndexer(inputCol=\"flag\", outputCol=\"flag-cat\")\n",
    "index4 = StringIndexer(inputCol=\"is_anomaly\", outputCol=\"label\")\n",
    "onehotencode = OneHotEncoder(inputCol=\"service-cat\", outputCol=\"service-onehotencode\")\n",
    "\n",
    "feat_columns = [col for col in kdd.columns +\n",
    "               ['protocol-cat','service-onehotencode','flag-cat','label']\n",
    "               if col not in ['protocol_type','service','flag','is_anomaly']]\n",
    "vectorAssembler = VectorAssembler(inputCols = feat_columns, outputCol = 'features')"
   ]
  },
  {
   "cell_type": "code",
   "execution_count": 14,
   "id": "527cd125",
   "metadata": {},
   "outputs": [],
   "source": [
    "randomjungle = RandomForestClassifier(numTrees=500, maxDepth=6, maxBins=80,seed=42)\n",
    "pipeline = Pipeline(stages=[index1,index2,index3,index4,onehotencode, vectorAssembler, randomjungle])"
   ]
  },
  {
   "cell_type": "code",
   "execution_count": 15,
   "id": "6b4c1d50",
   "metadata": {},
   "outputs": [],
   "source": [
    "themodel = pipeline.fit(train_data)"
   ]
  },
  {
   "cell_type": "code",
   "execution_count": 17,
   "id": "fcbf1a15",
   "metadata": {},
   "outputs": [],
   "source": [
    "themodel.save('/user/itv000684/kdd/model.model2')"
   ]
  },
  {
   "cell_type": "code",
   "execution_count": 18,
   "id": "2cdde9c3",
   "metadata": {},
   "outputs": [],
   "source": [
    "from pyspark.ml import PipelineModel\n",
    "model = PipelineModel.load('/user/itv000684/kdd/model.model2')"
   ]
  },
  {
   "cell_type": "code",
   "execution_count": 19,
   "id": "a124c75e",
   "metadata": {},
   "outputs": [],
   "source": [
    "results = model.transform(test_data).select(\"label\",\"prediction\").cache()"
   ]
  },
  {
   "cell_type": "code",
   "execution_count": 20,
   "id": "0832576e",
   "metadata": {},
   "outputs": [],
   "source": [
    "import pandas as pd\n",
    "\n",
    "def eval_metrics(lap):\n",
    "    labels = lap.select(\"label\").distinct().toPandas()['label'].tolist()\n",
    "    tpos = [lap.filter(lap.label == x).filter(lap.prediction == x).count() for x in labels]\n",
    "    fpos = [lap.filter(lap.label == x).filter(lap.prediction != x).count() for x in labels]\n",
    "    fneg = [lap.filter(lap.label != x).filter(lap.prediction != x).count() for x in labels]\n",
    "    precision = zip(labels,[float(tp)/(tp+fp+1e-50) for (tp,fp) in zip(tpos,fpos)])\n",
    "    recall = zip(labels, [float(tp)/(tp+fn+1e-50) for (tp,fn) in zip(tpos,fneg)])\n",
    "    return(precision,recall)"
   ]
  },
  {
   "cell_type": "code",
   "execution_count": 21,
   "id": "3e22de0c",
   "metadata": {},
   "outputs": [],
   "source": [
    "(precision, recall) = eval_metrics(results)\n",
    "ordered_labels = model.stages[3]._call_java(\"labels\")\n",
    "df = pd.DataFrame([(x, test_data.filter(test_data.is_anomaly == x).count(),y[1],z[1]) for x,y,z in zip(ordered_labels, sorted(precision, key = lambda x: x[0]), sorted(recall, key=lambda x: x[0]))], columns = ['type','count','precision','recall'])"
   ]
  },
  {
   "cell_type": "code",
   "execution_count": 22,
   "id": "6e351e13",
   "metadata": {},
   "outputs": [
    {
     "data": {
      "text/html": [
       "<div>\n",
       "<style scoped>\n",
       "    .dataframe tbody tr th:only-of-type {\n",
       "        vertical-align: middle;\n",
       "    }\n",
       "\n",
       "    .dataframe tbody tr th {\n",
       "        vertical-align: top;\n",
       "    }\n",
       "\n",
       "    .dataframe thead th {\n",
       "        text-align: right;\n",
       "    }\n",
       "</style>\n",
       "<table border=\"1\" class=\"dataframe\">\n",
       "  <thead>\n",
       "    <tr style=\"text-align: right;\">\n",
       "      <th></th>\n",
       "      <th>type</th>\n",
       "      <th>count</th>\n",
       "      <th>precision</th>\n",
       "      <th>recall</th>\n",
       "    </tr>\n",
       "  </thead>\n",
       "  <tbody>\n",
       "    <tr>\n",
       "      <th>0</th>\n",
       "      <td>smurf.</td>\n",
       "      <td>842884</td>\n",
       "      <td>1.000000</td>\n",
       "      <td>0.573739</td>\n",
       "    </tr>\n",
       "    <tr>\n",
       "      <th>1</th>\n",
       "      <td>neptune.</td>\n",
       "      <td>321292</td>\n",
       "      <td>1.000000</td>\n",
       "      <td>0.218699</td>\n",
       "    </tr>\n",
       "    <tr>\n",
       "      <th>2</th>\n",
       "      <td>normal.</td>\n",
       "      <td>291432</td>\n",
       "      <td>1.000000</td>\n",
       "      <td>0.198530</td>\n",
       "    </tr>\n",
       "    <tr>\n",
       "      <th>3</th>\n",
       "      <td>satan.</td>\n",
       "      <td>4684</td>\n",
       "      <td>0.944065</td>\n",
       "      <td>0.003011</td>\n",
       "    </tr>\n",
       "    <tr>\n",
       "      <th>4</th>\n",
       "      <td>ipsweep.</td>\n",
       "      <td>3635</td>\n",
       "      <td>0.967813</td>\n",
       "      <td>0.002395</td>\n",
       "    </tr>\n",
       "    <tr>\n",
       "      <th>5</th>\n",
       "      <td>portsweep.</td>\n",
       "      <td>3161</td>\n",
       "      <td>0.990826</td>\n",
       "      <td>0.002132</td>\n",
       "    </tr>\n",
       "    <tr>\n",
       "      <th>6</th>\n",
       "      <td>nmap.</td>\n",
       "      <td>667</td>\n",
       "      <td>0.449775</td>\n",
       "      <td>0.000204</td>\n",
       "    </tr>\n",
       "    <tr>\n",
       "      <th>7</th>\n",
       "      <td>back.</td>\n",
       "      <td>670</td>\n",
       "      <td>0.943284</td>\n",
       "      <td>0.000430</td>\n",
       "    </tr>\n",
       "    <tr>\n",
       "      <th>8</th>\n",
       "      <td>warezclient.</td>\n",
       "      <td>287</td>\n",
       "      <td>0.000000</td>\n",
       "      <td>0.000000</td>\n",
       "    </tr>\n",
       "    <tr>\n",
       "      <th>9</th>\n",
       "      <td>teardrop.</td>\n",
       "      <td>263</td>\n",
       "      <td>0.034221</td>\n",
       "      <td>0.000006</td>\n",
       "    </tr>\n",
       "    <tr>\n",
       "      <th>10</th>\n",
       "      <td>pod.</td>\n",
       "      <td>79</td>\n",
       "      <td>0.000000</td>\n",
       "      <td>0.000000</td>\n",
       "    </tr>\n",
       "    <tr>\n",
       "      <th>11</th>\n",
       "      <td>guess_passwd.</td>\n",
       "      <td>15</td>\n",
       "      <td>0.000000</td>\n",
       "      <td>0.000000</td>\n",
       "    </tr>\n",
       "    <tr>\n",
       "      <th>12</th>\n",
       "      <td>buffer_overflow.</td>\n",
       "      <td>11</td>\n",
       "      <td>0.000000</td>\n",
       "      <td>0.000000</td>\n",
       "    </tr>\n",
       "    <tr>\n",
       "      <th>13</th>\n",
       "      <td>land.</td>\n",
       "      <td>3</td>\n",
       "      <td>0.000000</td>\n",
       "      <td>0.000000</td>\n",
       "    </tr>\n",
       "    <tr>\n",
       "      <th>14</th>\n",
       "      <td>warezmaster.</td>\n",
       "      <td>4</td>\n",
       "      <td>0.000000</td>\n",
       "      <td>0.000000</td>\n",
       "    </tr>\n",
       "    <tr>\n",
       "      <th>15</th>\n",
       "      <td>imap.</td>\n",
       "      <td>5</td>\n",
       "      <td>0.000000</td>\n",
       "      <td>0.000000</td>\n",
       "    </tr>\n",
       "    <tr>\n",
       "      <th>16</th>\n",
       "      <td>rootkit.</td>\n",
       "      <td>3</td>\n",
       "      <td>0.000000</td>\n",
       "      <td>0.000000</td>\n",
       "    </tr>\n",
       "    <tr>\n",
       "      <th>17</th>\n",
       "      <td>loadmodule.</td>\n",
       "      <td>3</td>\n",
       "      <td>0.000000</td>\n",
       "      <td>0.000000</td>\n",
       "    </tr>\n",
       "    <tr>\n",
       "      <th>18</th>\n",
       "      <td>multihop.</td>\n",
       "      <td>2</td>\n",
       "      <td>0.000000</td>\n",
       "      <td>0.000000</td>\n",
       "    </tr>\n",
       "    <tr>\n",
       "      <th>19</th>\n",
       "      <td>ftp_write.</td>\n",
       "      <td>5</td>\n",
       "      <td>0.000000</td>\n",
       "      <td>0.000000</td>\n",
       "    </tr>\n",
       "    <tr>\n",
       "      <th>20</th>\n",
       "      <td>phf.</td>\n",
       "      <td>1</td>\n",
       "      <td>0.000000</td>\n",
       "      <td>0.000000</td>\n",
       "    </tr>\n",
       "    <tr>\n",
       "      <th>21</th>\n",
       "      <td>spy.</td>\n",
       "      <td>0</td>\n",
       "      <td>0.000000</td>\n",
       "      <td>0.000000</td>\n",
       "    </tr>\n",
       "  </tbody>\n",
       "</table>\n",
       "</div>"
      ],
      "text/plain": [
       "                type   count  precision    recall\n",
       "0             smurf.  842884   1.000000  0.573739\n",
       "1           neptune.  321292   1.000000  0.218699\n",
       "2            normal.  291432   1.000000  0.198530\n",
       "3             satan.    4684   0.944065  0.003011\n",
       "4           ipsweep.    3635   0.967813  0.002395\n",
       "5         portsweep.    3161   0.990826  0.002132\n",
       "6              nmap.     667   0.449775  0.000204\n",
       "7              back.     670   0.943284  0.000430\n",
       "8       warezclient.     287   0.000000  0.000000\n",
       "9          teardrop.     263   0.034221  0.000006\n",
       "10              pod.      79   0.000000  0.000000\n",
       "11     guess_passwd.      15   0.000000  0.000000\n",
       "12  buffer_overflow.      11   0.000000  0.000000\n",
       "13             land.       3   0.000000  0.000000\n",
       "14      warezmaster.       4   0.000000  0.000000\n",
       "15             imap.       5   0.000000  0.000000\n",
       "16          rootkit.       3   0.000000  0.000000\n",
       "17       loadmodule.       3   0.000000  0.000000\n",
       "18         multihop.       2   0.000000  0.000000\n",
       "19        ftp_write.       5   0.000000  0.000000\n",
       "20              phf.       1   0.000000  0.000000\n",
       "21              spy.       0   0.000000  0.000000"
      ]
     },
     "execution_count": 22,
     "metadata": {},
     "output_type": "execute_result"
    }
   ],
   "source": [
    "df"
   ]
  },
  {
   "cell_type": "code",
   "execution_count": null,
   "id": "e8857172",
   "metadata": {},
   "outputs": [],
   "source": []
  }
 ],
 "metadata": {
  "kernelspec": {
   "display_name": "Pyspark 3",
   "language": "python",
   "name": "pyspark3"
  },
  "language_info": {
   "codemirror_mode": {
    "name": "ipython",
    "version": 3
   },
   "file_extension": ".py",
   "mimetype": "text/x-python",
   "name": "python",
   "nbconvert_exporter": "python",
   "pygments_lexer": "ipython3",
   "version": "3.6.12"
  }
 },
 "nbformat": 4,
 "nbformat_minor": 5
}
