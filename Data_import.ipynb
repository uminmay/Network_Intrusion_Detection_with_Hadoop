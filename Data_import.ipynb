{
 "cells": [
  {
   "cell_type": "markdown",
   "id": "b1f22165",
   "metadata": {},
   "source": [
    "## Building Big Data Anomaly Detection With Hadoop"
   ]
  },
  {
   "cell_type": "markdown",
   "id": "4da0f2d4",
   "metadata": {},
   "source": [
    "### Detecting Network Intrusions"
   ]
  },
  {
   "cell_type": "markdown",
   "id": "0a49845b",
   "metadata": {},
   "source": [
    "#### Data Ingestion"
   ]
  },
  {
   "cell_type": "markdown",
   "id": "bb973492",
   "metadata": {},
   "source": [
    "We have downloaded KDD-99 dataset from 'http://kdd.ics.uci.edu/databases/kddcup99/kddcup99.html', We need to import this data to hive table to create a model for Anomaly Detction System.\n",
    "\n",
    "In 1999, the original TCP dump files were pre-processed for utilisation in the KDD intrusion detection benchmark and competetion, reulting is what known as KDD-99 dataset."
   ]
  },
  {
   "cell_type": "markdown",
   "id": "04454837",
   "metadata": {},
   "source": [
    "#### Feature Description"
   ]
  },
  {
   "cell_type": "markdown",
   "id": "c3f13ccd",
   "metadata": {},
   "source": [
    "duration:continuous.\n",
    "protocol_type: symbolic.\n",
    "service: symbolic.\n",
    "flag: symbolic.\n",
    "src_bytes: continuous.\n",
    "dst_bytes: continuous.\n",
    "land: symbolic.\n",
    "wrong_fragment: continuous.\n",
    "urgent: continuous.\n",
    "hot: continuous.\n",
    "num_failed_logins: continuous.\n",
    "logged_in: symbolic.\n",
    "num_compromised: continuous.\n",
    "root_shell: continuous.\n",
    "su_attempted: continuous.\n",
    "num_root: continuous.\n",
    "num_file_creations: continuous.\n",
    "num_shells: continuous.\n",
    "num_access_files: continuous.\n",
    "num_outbound_cmds: continuous.\n",
    "is_host_login: symbolic.\n",
    "is_guest_login: symbolic.\n",
    "count: continuous.\n",
    "srv_count: continuous.\n",
    "serror_rate: continuous.\n",
    "srv_serror_rate: continuous.\n",
    "rerror_rate: continuous.\n",
    "srv_rerror_rate: continuous.\n",
    "same_srv_rate: continuous.\n",
    "diff_srv_rate: continuous.\n",
    "srv_diff_host_rate: continuous.\n",
    "dst_host_count: continuous.\n",
    "dst_host_srv_count: continuous.\n",
    "dst_host_same_srv_rate: continuous.\n",
    "dst_host_diff_srv_rate: continuous.\n",
    "dst_host_same_src_port_rate: continuous.\n",
    "dst_host_srv_diff_host_rate: continuous.\n",
    "dst_host_serror_rate: continuous.\n",
    "dst_host_srv_serror_rate: continuous.\n",
    "dst_host_rerror_rate: continuous.\n",
    "dst_host_srv_rerror_rate: continuous."
   ]
  },
  {
   "cell_type": "code",
   "execution_count": 1,
   "id": "99f8942f",
   "metadata": {},
   "outputs": [],
   "source": [
    "from pyspark.sql import SparkSession"
   ]
  },
  {
   "cell_type": "code",
   "execution_count": 2,
   "id": "6fb71272",
   "metadata": {},
   "outputs": [],
   "source": [
    "spark = SparkSession.builder.config(\"spark.sql.warehouse.dir\",\"/user/itv000684/warehouse\").enableHiveSupport().appName(\"Intrusion Detection System\").master(\"yarn\").getOrCreate()"
   ]
  },
  {
   "cell_type": "code",
   "execution_count": 3,
   "id": "ea77af05",
   "metadata": {},
   "outputs": [
    {
     "data": {
      "text/html": [
       "<table border='1'>\n",
       "<tr><th></th></tr>\n",
       "</table>\n"
      ],
      "text/plain": [
       "++\n",
       "||\n",
       "++\n",
       "++"
      ]
     },
     "execution_count": 3,
     "metadata": {},
     "output_type": "execute_result"
    }
   ],
   "source": [
    "spark.sql(\"\"\"DROP DATABASE IF EXISTS itv000684_kdd99data CASCADE\"\"\")"
   ]
  },
  {
   "cell_type": "code",
   "execution_count": 4,
   "id": "f887cd20",
   "metadata": {},
   "outputs": [
    {
     "data": {
      "text/html": [
       "<table border='1'>\n",
       "<tr><th></th></tr>\n",
       "</table>\n"
      ],
      "text/plain": [
       "++\n",
       "||\n",
       "++\n",
       "++"
      ]
     },
     "execution_count": 4,
     "metadata": {},
     "output_type": "execute_result"
    }
   ],
   "source": [
    "spark.sql(\"CREATE DATABASE IF NOT EXISTS itv000684_kdd99data\")"
   ]
  },
  {
   "cell_type": "code",
   "execution_count": 5,
   "id": "99132c0d",
   "metadata": {},
   "outputs": [
    {
     "data": {
      "text/html": [
       "<table border='1'>\n",
       "<tr><th></th></tr>\n",
       "</table>\n"
      ],
      "text/plain": [
       "++\n",
       "||\n",
       "++\n",
       "++"
      ]
     },
     "execution_count": 5,
     "metadata": {},
     "output_type": "execute_result"
    }
   ],
   "source": [
    "spark.sql(\"\"\"USE itv000684_kdd99data\"\"\")"
   ]
  },
  {
   "cell_type": "code",
   "execution_count": 6,
   "id": "f707ef89",
   "metadata": {},
   "outputs": [
    {
     "data": {
      "text/html": [
       "<table border='1'>\n",
       "<tr><th>current_database()</th></tr>\n",
       "<tr><td>itv000684_kdd99data</td></tr>\n",
       "</table>\n"
      ],
      "text/plain": [
       "+-------------------+\n",
       "| current_database()|\n",
       "+-------------------+\n",
       "|itv000684_kdd99data|\n",
       "+-------------------+"
      ]
     },
     "execution_count": 6,
     "metadata": {},
     "output_type": "execute_result"
    }
   ],
   "source": [
    "spark.sql(\"SELECT current_database()\")"
   ]
  },
  {
   "cell_type": "code",
   "execution_count": 7,
   "id": "62d2876e",
   "metadata": {},
   "outputs": [
    {
     "data": {
      "text/html": [
       "<table border='1'>\n",
       "<tr><th></th></tr>\n",
       "</table>\n"
      ],
      "text/plain": [
       "++\n",
       "||\n",
       "++\n",
       "++"
      ]
     },
     "execution_count": 7,
     "metadata": {},
     "output_type": "execute_result"
    }
   ],
   "source": [
    "spark.sql(\"DROP TABLE IF EXISTS kdd99raw\")"
   ]
  },
  {
   "cell_type": "code",
   "execution_count": 8,
   "id": "8eef42f0",
   "metadata": {},
   "outputs": [
    {
     "data": {
      "text/html": [
       "<table border='1'>\n",
       "<tr><th></th></tr>\n",
       "</table>\n"
      ],
      "text/plain": [
       "++\n",
       "||\n",
       "++\n",
       "++"
      ]
     },
     "execution_count": 8,
     "metadata": {},
     "output_type": "execute_result"
    }
   ],
   "source": [
    "spark.sql(\"\"\"CREATE EXTERNAL TABLE kdd99raw (\n",
    "duration  INT,\n",
    "protocol_type  STRING,\n",
    "service  STRING,\n",
    "flag  STRING,\n",
    "src_bytes  INT,\n",
    "dst_bytes  INT,\n",
    "land  STRING,\n",
    "wrong_fragment  INT,\n",
    "urgent  INT,\n",
    "hot  INT,\n",
    "num_failed_logins  INT,\n",
    "logged_in  STRING,\n",
    "num_compromised  INT,\n",
    "root_shell  INT,\n",
    "su_attempted  INT,\n",
    "num_root  INT,\n",
    "num_file_creations  INT,\n",
    "num_shells  INT,\n",
    "num_access_files  INT,\n",
    "num_outbound_cmds  INT,\n",
    "is_host_login  STRING,\n",
    "is_guest_login  STRING,\n",
    "count  INT,\n",
    "srv_count  INT,\n",
    "serror_rate  FLOAT,\n",
    "srv_serror_rate  FLOAT,\n",
    "rerror_rate  FLOAT,\n",
    "srv_rerror_rate  FLOAT,\n",
    "same_srv_rate  FLOAT,\n",
    "diff_srv_rate  FLOAT,\n",
    "srv_diff_host_rate  FLOAT,\n",
    "dst_host_count  FLOAT,\n",
    "dst_host_srv_count  FLOAT,\n",
    "dst_host_same_srv_rate  FLOAT,\n",
    "dst_host_diff_srv_rate  FLOAT,\n",
    "dst_host_same_src_port_rate  FLOAT,\n",
    "dst_host_srv_diff_host_rate  FLOAT,\n",
    "dst_host_serror_rate  FLOAT,\n",
    "dst_host_srv_serror_rate  FLOAT,\n",
    "dst_host_rerror_rate  FLOAT,\n",
    "dst_host_srv_rerror_rate  FLOAT,\n",
    "is_anomaly STRING) ROW FORMAT SERDE 'org.apache.hadoop.hive.serde2.OpenCSVSerde'\n",
    "STORED AS TEXTFILE\n",
    "LOCATION '/user/itv000684/kdd'\n",
    "\"\"\")\n"
   ]
  },
  {
   "cell_type": "code",
   "execution_count": 9,
   "id": "59828d14",
   "metadata": {},
   "outputs": [
    {
     "name": "stdout",
     "output_type": "stream",
     "text": [
      "+--------------------+--------------------+-----------------+\n",
      "|            col_name|           data_type|          comment|\n",
      "+--------------------+--------------------+-----------------+\n",
      "|            duration|              string|from deserializer|\n",
      "|       protocol_type|              string|from deserializer|\n",
      "|             service|              string|from deserializer|\n",
      "|                flag|              string|from deserializer|\n",
      "|           src_bytes|              string|from deserializer|\n",
      "|           dst_bytes|              string|from deserializer|\n",
      "|                land|              string|from deserializer|\n",
      "|      wrong_fragment|              string|from deserializer|\n",
      "|              urgent|              string|from deserializer|\n",
      "|                 hot|              string|from deserializer|\n",
      "|   num_failed_logins|              string|from deserializer|\n",
      "|           logged_in|              string|from deserializer|\n",
      "|     num_compromised|              string|from deserializer|\n",
      "|          root_shell|              string|from deserializer|\n",
      "|        su_attempted|              string|from deserializer|\n",
      "|            num_root|              string|from deserializer|\n",
      "|  num_file_creations|              string|from deserializer|\n",
      "|          num_shells|              string|from deserializer|\n",
      "|    num_access_files|              string|from deserializer|\n",
      "|   num_outbound_cmds|              string|from deserializer|\n",
      "|       is_host_login|              string|from deserializer|\n",
      "|      is_guest_login|              string|from deserializer|\n",
      "|               count|              string|from deserializer|\n",
      "|           srv_count|              string|from deserializer|\n",
      "|         serror_rate|              string|from deserializer|\n",
      "|     srv_serror_rate|              string|from deserializer|\n",
      "|         rerror_rate|              string|from deserializer|\n",
      "|     srv_rerror_rate|              string|from deserializer|\n",
      "|       same_srv_rate|              string|from deserializer|\n",
      "|       diff_srv_rate|              string|from deserializer|\n",
      "|  srv_diff_host_rate|              string|from deserializer|\n",
      "|      dst_host_count|              string|from deserializer|\n",
      "|  dst_host_srv_count|              string|from deserializer|\n",
      "|dst_host_same_srv...|              string|from deserializer|\n",
      "|dst_host_diff_srv...|              string|from deserializer|\n",
      "|dst_host_same_src...|              string|from deserializer|\n",
      "|dst_host_srv_diff...|              string|from deserializer|\n",
      "|dst_host_serror_rate|              string|from deserializer|\n",
      "|dst_host_srv_serr...|              string|from deserializer|\n",
      "|dst_host_rerror_rate|              string|from deserializer|\n",
      "|dst_host_srv_rerr...|              string|from deserializer|\n",
      "|          is_anomaly|              string|from deserializer|\n",
      "|                    |                    |                 |\n",
      "|# Detailed Table ...|                    |                 |\n",
      "|            Database| itv000684_kdd99data|                 |\n",
      "|               Table|            kdd99raw|                 |\n",
      "|               Owner|           itv000684|                 |\n",
      "|        Created Time|Mon Jul 05 10:46:...|                 |\n",
      "|         Last Access|             UNKNOWN|                 |\n",
      "|          Created By|         Spark 3.0.1|                 |\n",
      "+--------------------+--------------------+-----------------+\n",
      "only showing top 50 rows\n",
      "\n"
     ]
    }
   ],
   "source": [
    "spark.sql(\"DESCRIBE FORMATTED kdd99raw\").show(50)"
   ]
  },
  {
   "cell_type": "code",
   "execution_count": 10,
   "id": "129d32c8",
   "metadata": {},
   "outputs": [
    {
     "data": {
      "text/html": [
       "<table border='1'>\n",
       "<tr><th></th></tr>\n",
       "</table>\n"
      ],
      "text/plain": [
       "++\n",
       "||\n",
       "++\n",
       "++"
      ]
     },
     "execution_count": 10,
     "metadata": {},
     "output_type": "execute_result"
    }
   ],
   "source": [
    "spark.sql(\"\"\"CREATE TABLE kdd99 STORED AS ORC tblproperties (\"orc.compress\" = \"ZLIB\")\n",
    "AS SELECT\n",
    "        protocol_type, service, flag, is_anomaly,\n",
    "        CAST(duration AS  INT),\n",
    "        CAST(src_bytes AS  INT),\n",
    "        CAST(dst_bytes AS  INT),\n",
    "        CAST(wrong_fragment AS  INT),\n",
    "        CAST(urgent AS  INT),\n",
    "        CAST(hot AS  INT),\n",
    "        CAST(num_failed_logins AS  INT),\n",
    "        CAST(num_compromised AS  INT),\n",
    "        CAST(root_shell AS  INT),\n",
    "        CAST(su_attempted AS  INT),\n",
    "        CAST(num_root AS  INT),\n",
    "        CAST(num_file_creations AS  INT),\n",
    "        CAST(num_shells AS  INT),\n",
    "        CAST(num_access_files AS  INT),\n",
    "        CAST(num_outbound_cmds AS  INT),\n",
    "        CAST(count AS  INT),\n",
    "        CAST(srv_count AS  INT),\n",
    "        CAST(serror_rate AS  FLOAT),\n",
    "        CAST(srv_serror_rate AS  FLOAT),\n",
    "        CAST(rerror_rate AS  FLOAT),\n",
    "        CAST(srv_rerror_rate AS  FLOAT),\n",
    "        CAST(same_srv_rate AS  FLOAT),\n",
    "        CAST(diff_srv_rate AS  FLOAT),\n",
    "        CAST(srv_diff_host_rate AS  FLOAT),\n",
    "        CAST(dst_host_count AS  FLOAT),\n",
    "        CAST(dst_host_srv_count AS  FLOAT),\n",
    "        CAST(dst_host_same_srv_rate AS  FLOAT),\n",
    "        CAST(dst_host_diff_srv_rate AS  FLOAT),\n",
    "        CAST(dst_host_same_src_port_rate AS  FLOAT),\n",
    "        CAST(dst_host_srv_diff_host_rate AS  FLOAT),\n",
    "        CAST(dst_host_serror_rate AS  FLOAT),\n",
    "        CAST(dst_host_srv_serror_rate AS  FLOAT),\n",
    "        CAST(dst_host_rerror_rate AS  FLOAT),\n",
    "        CAST(dst_host_srv_rerror_rate AS  FLOAT)\n",
    "FROM kdd99raw\n",
    "\"\"\")"
   ]
  },
  {
   "cell_type": "code",
   "execution_count": 11,
   "id": "5b416e8b",
   "metadata": {},
   "outputs": [
    {
     "name": "stdout",
     "output_type": "stream",
     "text": [
      "+-------------+-------+----+----------+--------+---------+---------+--------------+------+---+-----------------+---------------+----------+------------+--------+------------------+----------+----------------+-----------------+-----+---------+-----------+---------------+-----------+---------------+-------------+-------------+------------------+--------------+------------------+----------------------+----------------------+---------------------------+---------------------------+--------------------+------------------------+--------------------+------------------------+\n",
      "|protocol_type|service|flag|is_anomaly|duration|src_bytes|dst_bytes|wrong_fragment|urgent|hot|num_failed_logins|num_compromised|root_shell|su_attempted|num_root|num_file_creations|num_shells|num_access_files|num_outbound_cmds|count|srv_count|serror_rate|srv_serror_rate|rerror_rate|srv_rerror_rate|same_srv_rate|diff_srv_rate|srv_diff_host_rate|dst_host_count|dst_host_srv_count|dst_host_same_srv_rate|dst_host_diff_srv_rate|dst_host_same_src_port_rate|dst_host_srv_diff_host_rate|dst_host_serror_rate|dst_host_srv_serror_rate|dst_host_rerror_rate|dst_host_srv_rerror_rate|\n",
      "+-------------+-------+----+----------+--------+---------+---------+--------------+------+---+-----------------+---------------+----------+------------+--------+------------------+----------+----------------+-----------------+-----+---------+-----------+---------------+-----------+---------------+-------------+-------------+------------------+--------------+------------------+----------------------+----------------------+---------------------------+---------------------------+--------------------+------------------------+--------------------+------------------------+\n",
      "|          tcp|   http|  SF|   normal.|       0|      215|    45076|             0|     0|  0|                0|              0|         0|           0|       0|                 0|         0|               0|                0|    1|        1|        0.0|            0.0|        0.0|            0.0|          1.0|          0.0|               0.0|           0.0|               0.0|                   0.0|                   0.0|                        0.0|                        0.0|                 0.0|                     0.0|                 0.0|                     0.0|\n",
      "|          tcp|   http|  SF|   normal.|       0|      162|     4528|             0|     0|  0|                0|              0|         0|           0|       0|                 0|         0|               0|                0|    2|        2|        0.0|            0.0|        0.0|            0.0|          1.0|          0.0|               0.0|           1.0|               1.0|                   1.0|                   0.0|                        1.0|                        0.0|                 0.0|                     0.0|                 0.0|                     0.0|\n",
      "|          tcp|   http|  SF|   normal.|       0|      236|     1228|             0|     0|  0|                0|              0|         0|           0|       0|                 0|         0|               0|                0|    1|        1|        0.0|            0.0|        0.0|            0.0|          1.0|          0.0|               0.0|           2.0|               2.0|                   1.0|                   0.0|                        0.5|                        0.0|                 0.0|                     0.0|                 0.0|                     0.0|\n",
      "|          tcp|   http|  SF|   normal.|       0|      233|     2032|             0|     0|  0|                0|              0|         0|           0|       0|                 0|         0|               0|                0|    2|        2|        0.0|            0.0|        0.0|            0.0|          1.0|          0.0|               0.0|           3.0|               3.0|                   1.0|                   0.0|                       0.33|                        0.0|                 0.0|                     0.0|                 0.0|                     0.0|\n",
      "|          tcp|   http|  SF|   normal.|       0|      239|      486|             0|     0|  0|                0|              0|         0|           0|       0|                 0|         0|               0|                0|    3|        3|        0.0|            0.0|        0.0|            0.0|          1.0|          0.0|               0.0|           4.0|               4.0|                   1.0|                   0.0|                       0.25|                        0.0|                 0.0|                     0.0|                 0.0|                     0.0|\n",
      "|          tcp|   http|  SF|   normal.|       0|      238|     1282|             0|     0|  0|                0|              0|         0|           0|       0|                 0|         0|               0|                0|    4|        4|        0.0|            0.0|        0.0|            0.0|          1.0|          0.0|               0.0|           5.0|               5.0|                   1.0|                   0.0|                        0.2|                        0.0|                 0.0|                     0.0|                 0.0|                     0.0|\n",
      "|          tcp|   http|  SF|   normal.|       0|      235|     1337|             0|     0|  0|                0|              0|         0|           0|       0|                 0|         0|               0|                0|    5|        5|        0.0|            0.0|        0.0|            0.0|          1.0|          0.0|               0.0|           6.0|               6.0|                   1.0|                   0.0|                       0.17|                        0.0|                 0.0|                     0.0|                 0.0|                     0.0|\n",
      "|          tcp|   http|  SF|   normal.|       0|      234|     1364|             0|     0|  0|                0|              0|         0|           0|       0|                 0|         0|               0|                0|    6|        6|        0.0|            0.0|        0.0|            0.0|          1.0|          0.0|               0.0|           7.0|               7.0|                   1.0|                   0.0|                       0.14|                        0.0|                 0.0|                     0.0|                 0.0|                     0.0|\n",
      "|          tcp|   http|  SF|   normal.|       0|      239|     1295|             0|     0|  0|                0|              0|         0|           0|       0|                 0|         0|               0|                0|    7|        7|        0.0|            0.0|        0.0|            0.0|          1.0|          0.0|               0.0|           8.0|               8.0|                   1.0|                   0.0|                       0.12|                        0.0|                 0.0|                     0.0|                 0.0|                     0.0|\n",
      "|          tcp|   http|  SF|   normal.|       0|      181|     5450|             0|     0|  0|                0|              0|         0|           0|       0|                 0|         0|               0|                0|    8|        8|        0.0|            0.0|        0.0|            0.0|          1.0|          0.0|               0.0|           9.0|               9.0|                   1.0|                   0.0|                       0.11|                        0.0|                 0.0|                     0.0|                 0.0|                     0.0|\n",
      "|          tcp|   http|  SF|   normal.|       0|      184|      124|             0|     0|  0|                0|              0|         0|           0|       0|                 0|         0|               0|                0|    1|        1|        0.0|            0.0|        0.0|            0.0|          1.0|          0.0|               0.0|          10.0|              10.0|                   1.0|                   0.0|                        0.1|                        0.0|                 0.0|                     0.0|                 0.0|                     0.0|\n",
      "|          tcp|   http|  SF|   normal.|       0|      185|     9020|             0|     0|  0|                0|              0|         0|           0|       0|                 0|         0|               0|                0|    2|        2|        0.0|            0.0|        0.0|            0.0|          1.0|          0.0|               0.0|          11.0|              11.0|                   1.0|                   0.0|                       0.09|                        0.0|                 0.0|                     0.0|                 0.0|                     0.0|\n",
      "|          tcp|   http|  SF|   normal.|       0|      239|     1295|             0|     0|  0|                0|              0|         0|           0|       0|                 0|         0|               0|                0|    1|        1|        0.0|            0.0|        0.0|            0.0|          1.0|          0.0|               0.0|          12.0|              12.0|                   1.0|                   0.0|                       0.08|                        0.0|                 0.0|                     0.0|                 0.0|                     0.0|\n",
      "|          tcp|   http|  SF|   normal.|       0|      181|     5450|             0|     0|  0|                0|              0|         0|           0|       0|                 0|         0|               0|                0|    2|        2|        0.0|            0.0|        0.0|            0.0|          1.0|          0.0|               0.0|          13.0|              13.0|                   1.0|                   0.0|                       0.08|                        0.0|                 0.0|                     0.0|                 0.0|                     0.0|\n",
      "|          tcp|   http|  SF|   normal.|       0|      236|     1228|             0|     0|  0|                0|              0|         0|           0|       0|                 0|         0|               0|                0|    3|        3|        0.0|            0.0|        0.0|            0.0|          1.0|          0.0|               0.0|          14.0|              14.0|                   1.0|                   0.0|                       0.07|                        0.0|                 0.0|                     0.0|                 0.0|                     0.0|\n",
      "|          tcp|   http|  SF|   normal.|       0|      233|     2032|             0|     0|  0|                0|              0|         0|           0|       0|                 0|         0|               0|                0|    4|        4|        0.0|            0.0|        0.0|            0.0|          1.0|          0.0|               0.0|          15.0|              15.0|                   1.0|                   0.0|                       0.07|                        0.0|                 0.0|                     0.0|                 0.0|                     0.0|\n",
      "|          tcp|   http|  SF|   normal.|       0|      238|     1282|             0|     0|  0|                0|              0|         0|           0|       0|                 0|         0|               0|                0|    5|        5|        0.0|            0.0|        0.0|            0.0|          1.0|          0.0|               0.0|          16.0|              16.0|                   1.0|                   0.0|                       0.06|                        0.0|                 0.0|                     0.0|                 0.0|                     0.0|\n",
      "|          tcp|   http|  SF|   normal.|       0|      235|     1337|             0|     0|  0|                0|              0|         0|           0|       0|                 0|         0|               0|                0|    6|        6|        0.0|            0.0|        0.0|            0.0|          1.0|          0.0|               0.0|          17.0|              17.0|                   1.0|                   0.0|                       0.06|                        0.0|                 0.0|                     0.0|                 0.0|                     0.0|\n",
      "|          tcp|   http|  SF|   normal.|       0|      234|     1364|             0|     0|  0|                0|              0|         0|           0|       0|                 0|         0|               0|                0|    7|        7|        0.0|            0.0|        0.0|            0.0|          1.0|          0.0|               0.0|          18.0|              18.0|                   1.0|                   0.0|                       0.06|                        0.0|                 0.0|                     0.0|                 0.0|                     0.0|\n",
      "|          tcp|   http|  SF|   normal.|       0|      239|      486|             0|     0|  0|                0|              0|         0|           0|       0|                 0|         0|               0|                0|    8|        8|        0.0|            0.0|        0.0|            0.0|          1.0|          0.0|               0.0|          19.0|              19.0|                   1.0|                   0.0|                       0.05|                        0.0|                 0.0|                     0.0|                 0.0|                     0.0|\n",
      "+-------------+-------+----+----------+--------+---------+---------+--------------+------+---+-----------------+---------------+----------+------------+--------+------------------+----------+----------------+-----------------+-----+---------+-----------+---------------+-----------+---------------+-------------+-------------+------------------+--------------+------------------+----------------------+----------------------+---------------------------+---------------------------+--------------------+------------------------+--------------------+------------------------+\n",
      "only showing top 20 rows\n",
      "\n"
     ]
    }
   ],
   "source": [
    "spark.sql(\"SELECT * FROM kdd99\").show()"
   ]
  },
  {
   "cell_type": "code",
   "execution_count": null,
   "id": "793cbbe8",
   "metadata": {},
   "outputs": [],
   "source": []
  }
 ],
 "metadata": {
  "kernelspec": {
   "display_name": "Pyspark 3",
   "language": "python",
   "name": "pyspark3"
  },
  "language_info": {
   "codemirror_mode": {
    "name": "ipython",
    "version": 3
   },
   "file_extension": ".py",
   "mimetype": "text/x-python",
   "name": "python",
   "nbconvert_exporter": "python",
   "pygments_lexer": "ipython3",
   "version": "3.6.12"
  }
 },
 "nbformat": 4,
 "nbformat_minor": 5
}
